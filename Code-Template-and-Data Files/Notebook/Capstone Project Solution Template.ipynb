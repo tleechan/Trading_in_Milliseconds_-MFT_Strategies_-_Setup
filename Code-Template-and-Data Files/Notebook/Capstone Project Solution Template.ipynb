{
 "cells": [
  {
   "cell_type": "markdown",
   "id": "e0a522dc",
   "metadata": {},
   "source": [
    "## Notebook Instructions\n",
    "\n",
    "1. If you are new to Jupyter notebooks, please go through this introductory manual <a href='https://quantra.quantinsti.com/quantra-notebook' target=\"_blank\">here</a>.\n",
    "1. Any changes made in this notebook would be lost after you close the browser window. **You can download the notebook to save your work on your PC.**\n",
    "1. Before running this notebook on your local PC:<br>\n",
    "i.  You need to set up a Python environment and the relevant packages on your local PC. To do so, go through the section on \"**Run Codes Locally on Your Machine**\" in the course.<br>\n",
    "ii. You need to **download the zip file available in the last unit** of this course. The zip file contains the data files and/or python modules that might be required to run this notebook."
   ]
  },
  {
   "cell_type": "markdown",
   "id": "3513b48c",
   "metadata": {},
   "source": [
    "# Capstone Project Model Solution\n",
    "\n",
    "In this notebook, we provide a model solution to an options strategy for the capstone project. You can refer to this if you are stuck in any step while building your solution. The features and parameters added here are not exhaustive or fine-tuned.\n",
    "\n",
    "The model solution guides you to answer the problem statements posed in the capstone project. The notebook structure is as follows:\n",
    "\n",
    "1. [Read the Data](#data)\n",
    "1. [Create Dollar-Volume Bars](#dollarvolumebars)\n",
    "1. [Backtest the Trading Strategy](#backtest)\n",
    "1. [Performance Analysis](#performance)\n",
    "\n",
    "## Import Libraries"
   ]
  },
  {
   "cell_type": "code",
   "execution_count": 1,
   "id": "0e4f5454",
   "metadata": {},
   "outputs": [],
   "source": [
    "# For data manipulation\n",
    "import pandas as pd\n",
    "import numpy as np\n",
    "from scipy.stats import norm\n",
    "\n",
    "# Ignore warnings\n",
    "import warnings\n",
    "warnings.filterwarnings('ignore')\n",
    "\n",
    "# For plotting\n",
    "import matplotlib.pyplot as plt\n",
    "import mplfinance as mpf"
   ]
  },
  {
   "cell_type": "markdown",
   "id": "f1f8bcea",
   "metadata": {},
   "source": [
    "<a id='data'></a>\n",
    "## Read the Data"
   ]
  },
  {
   "cell_type": "code",
   "execution_count": 2,
   "id": "df6e2936",
   "metadata": {},
   "outputs": [
    {
     "data": {
      "text/html": [
       "<div>\n",
       "<style scoped>\n",
       "    .dataframe tbody tr th:only-of-type {\n",
       "        vertical-align: middle;\n",
       "    }\n",
       "\n",
       "    .dataframe tbody tr th {\n",
       "        vertical-align: top;\n",
       "    }\n",
       "\n",
       "    .dataframe thead th {\n",
       "        text-align: right;\n",
       "    }\n",
       "</style>\n",
       "<table border=\"1\" class=\"dataframe\">\n",
       "  <thead>\n",
       "    <tr style=\"text-align: right;\">\n",
       "      <th></th>\n",
       "      <th>bid</th>\n",
       "      <th>ask</th>\n",
       "      <th>trade_price</th>\n",
       "      <th>trade_size</th>\n",
       "    </tr>\n",
       "    <tr>\n",
       "      <th></th>\n",
       "      <th></th>\n",
       "      <th></th>\n",
       "      <th></th>\n",
       "      <th></th>\n",
       "    </tr>\n",
       "  </thead>\n",
       "  <tbody>\n",
       "    <tr>\n",
       "      <th>2013-10-02 00:00:00.604800</th>\n",
       "      <td>1428.50</td>\n",
       "      <td>1428.75</td>\n",
       "      <td>1428.75</td>\n",
       "      <td>1.0</td>\n",
       "    </tr>\n",
       "    <tr>\n",
       "      <th>2013-10-02 00:00:10.972800</th>\n",
       "      <td>1428.50</td>\n",
       "      <td>1428.75</td>\n",
       "      <td>1428.75</td>\n",
       "      <td>25.0</td>\n",
       "    </tr>\n",
       "    <tr>\n",
       "      <th>2013-10-02 00:00:19.439999</th>\n",
       "      <td>1428.50</td>\n",
       "      <td>1428.75</td>\n",
       "      <td>1429.00</td>\n",
       "      <td>17.0</td>\n",
       "    </tr>\n",
       "    <tr>\n",
       "      <th>2013-10-02 00:00:19.439999</th>\n",
       "      <td>1428.50</td>\n",
       "      <td>1428.75</td>\n",
       "      <td>1429.00</td>\n",
       "      <td>11.0</td>\n",
       "    </tr>\n",
       "    <tr>\n",
       "      <th>2013-10-02 00:00:19.526400</th>\n",
       "      <td>1428.75</td>\n",
       "      <td>1429.00</td>\n",
       "      <td>1429.00</td>\n",
       "      <td>28.0</td>\n",
       "    </tr>\n",
       "  </tbody>\n",
       "</table>\n",
       "</div>"
      ],
      "text/plain": [
       "                                bid      ask  trade_price  trade_size\n",
       "                                                                     \n",
       "2013-10-02 00:00:00.604800  1428.50  1428.75      1428.75         1.0\n",
       "2013-10-02 00:00:10.972800  1428.50  1428.75      1428.75        25.0\n",
       "2013-10-02 00:00:19.439999  1428.50  1428.75      1429.00        17.0\n",
       "2013-10-02 00:00:19.439999  1428.50  1428.75      1429.00        11.0\n",
       "2013-10-02 00:00:19.526400  1428.75  1429.00      1429.00        28.0"
      ]
     },
     "execution_count": 2,
     "metadata": {},
     "output_type": "execute_result"
    }
   ],
   "source": [
    "# Read the 'tick_data_es500_2013_10_02.bz2' pickle file as 'tick_data' dataframe\n",
    "tick_data = pd.read_pickle('../data_modules/tick_data_es500_2013_10_02.bz2')\n",
    "\n",
    "# Print first 5 trades of the 'tick_data' dataframe\n",
    "tick_data.head()"
   ]
  },
  {
   "cell_type": "markdown",
   "id": "49fd5ce0",
   "metadata": {},
   "source": [
    "<a id='dollarvolumebars'></a>\n",
    "## Create Dollar-Volume Bars"
   ]
  },
  {
   "cell_type": "code",
   "execution_count": 3,
   "id": "bd0a97f6",
   "metadata": {},
   "outputs": [
    {
     "data": {
      "text/plain": [
       "'\\nDefine dollar-volume threshold\\n'"
      ]
     },
     "execution_count": 3,
     "metadata": {},
     "output_type": "execute_result"
    }
   ],
   "source": [
    "\"\"\"\n",
    "Define dollar-volume threshold\n",
    "\"\"\"\n",
    "\n",
    "\n"
   ]
  },
  {
   "cell_type": "markdown",
   "id": "af55ca5f",
   "metadata": {},
   "source": [
    "### Cumulative Volume"
   ]
  },
  {
   "cell_type": "code",
   "execution_count": 4,
   "id": "614f6c14",
   "metadata": {},
   "outputs": [
    {
     "data": {
      "text/plain": [
       "'\\nCalculate dollar volume\\n'"
      ]
     },
     "execution_count": 4,
     "metadata": {},
     "output_type": "execute_result"
    }
   ],
   "source": [
    "\"\"\"\n",
    "Calculate dollar volume\n",
    "\"\"\"\n",
    "\n",
    "\n"
   ]
  },
  {
   "cell_type": "markdown",
   "id": "8df7d0f3",
   "metadata": {},
   "source": [
    "### Initialise Variables"
   ]
  },
  {
   "cell_type": "code",
   "execution_count": 5,
   "id": "c599984f",
   "metadata": {},
   "outputs": [
    {
     "data": {
      "text/plain": [
       "'\\nInitialise variables \\n'"
      ]
     },
     "execution_count": 5,
     "metadata": {},
     "output_type": "execute_result"
    }
   ],
   "source": [
    "\"\"\"\n",
    "Initialise variables \n",
    "\"\"\"\n",
    "\n",
    "\n"
   ]
  },
  {
   "cell_type": "markdown",
   "id": "b797799a",
   "metadata": {},
   "source": [
    "### Iterate over the Trades"
   ]
  },
  {
   "cell_type": "code",
   "execution_count": 6,
   "id": "b218ca3e",
   "metadata": {
    "scrolled": false
   },
   "outputs": [
    {
     "data": {
      "text/plain": [
       "'\\nCreate dollar volume bars\\n'"
      ]
     },
     "execution_count": 6,
     "metadata": {},
     "output_type": "execute_result"
    }
   ],
   "source": [
    "\"\"\"\n",
    "Create dollar volume bars\n",
    "\"\"\"\n",
    "\n",
    "\n"
   ]
  },
  {
   "cell_type": "code",
   "execution_count": 7,
   "id": "00ad2262",
   "metadata": {},
   "outputs": [
    {
     "data": {
      "text/plain": [
       "'\\nDefine a function to calculate order flow using bvc method\\n'"
      ]
     },
     "execution_count": 7,
     "metadata": {},
     "output_type": "execute_result"
    }
   ],
   "source": [
    "\"\"\"\n",
    "Define a function to calculate order flow using bvc method\n",
    "\"\"\"\n",
    "\n",
    "\n"
   ]
  },
  {
   "cell_type": "markdown",
   "id": "27fcbd9d",
   "metadata": {},
   "source": [
    "<a id='backtest'></a>\n",
    "## Backtest the Trading Strategy"
   ]
  },
  {
   "cell_type": "code",
   "execution_count": 8,
   "id": "7177147e",
   "metadata": {},
   "outputs": [
    {
     "data": {
      "text/plain": [
       "'\\nBacktest your strategy\\n'"
      ]
     },
     "execution_count": 8,
     "metadata": {},
     "output_type": "execute_result"
    }
   ],
   "source": [
    "\"\"\"\n",
    "Backtest your strategy\n",
    "\"\"\"\n",
    "\n",
    "\n",
    "\n",
    "\n"
   ]
  },
  {
   "cell_type": "markdown",
   "id": "f0980e3b",
   "metadata": {},
   "source": [
    "<a id='performance'></a>\n",
    "## Performance Analysis"
   ]
  },
  {
   "cell_type": "code",
   "execution_count": 9,
   "id": "717febc3",
   "metadata": {},
   "outputs": [
    {
     "data": {
      "text/plain": [
       "'\\nAnalyse the strategy performance\\n'"
      ]
     },
     "execution_count": 9,
     "metadata": {},
     "output_type": "execute_result"
    }
   ],
   "source": [
    "\"\"\"\n",
    "Analyse the strategy performance\n",
    "\"\"\"\n",
    "\n",
    "\n",
    "\n"
   ]
  },
  {
   "cell_type": "markdown",
   "id": "cbdc9af2",
   "metadata": {},
   "source": [
    "## Plot the Performance"
   ]
  },
  {
   "cell_type": "code",
   "execution_count": 10,
   "id": "da7b66dc",
   "metadata": {},
   "outputs": [
    {
     "data": {
      "text/plain": [
       "'\\nPlot the performance\\n'"
      ]
     },
     "execution_count": 10,
     "metadata": {},
     "output_type": "execute_result"
    }
   ],
   "source": [
    "\"\"\"\n",
    "Plot the performance\n",
    "\"\"\"\n",
    "\n",
    "\n",
    "\n"
   ]
  }
 ],
 "metadata": {
  "kernelspec": {
   "display_name": "Python 3 (ipykernel)",
   "language": "python",
   "name": "python3"
  },
  "language_info": {
   "codemirror_mode": {
    "name": "ipython",
    "version": 3
   },
   "file_extension": ".py",
   "mimetype": "text/x-python",
   "name": "python",
   "nbconvert_exporter": "python",
   "pygments_lexer": "ipython3",
   "version": "3.9.5"
  }
 },
 "nbformat": 4,
 "nbformat_minor": 5
}
