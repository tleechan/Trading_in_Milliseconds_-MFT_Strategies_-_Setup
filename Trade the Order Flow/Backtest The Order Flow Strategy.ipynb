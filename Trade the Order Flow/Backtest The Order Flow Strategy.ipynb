{
 "cells": [
  {
   "cell_type": "markdown",
   "id": "d503d4bf",
   "metadata": {},
   "source": [
    "## Notebook Instructions\n",
    "\n",
    "1. If you are new to Jupyter notebooks, please go through this introductory manual <a href='https://quantra.quantinsti.com/quantra-notebook' target=\"_blank\">here</a>.\n",
    "1. Any changes made in this notebook would be lost after you close the browser window. **You can download the notebook to save your work on your PC.**\n",
    "1. Before running this notebook on your local PC:<br>\n",
    "i.  You need to set up a Python environment and the relevant packages on your local PC. To do so, go through the section on \"**Run Codes Locally on Your Machine**\" in the course.<br>\n",
    "ii. You need to **download the zip file available in the last unit** of this course. The zip file contains the data files and/or python modules that might be required to run this notebook."
   ]
  },
  {
   "cell_type": "markdown",
   "id": "f3a8b69e",
   "metadata": {},
   "source": [
    "# Backtesting Order Flow Strategy\n",
    "In the previous video, you learnt to create a trading strategy based on order flow calculated using the tick rule. In this notebook, you will learn to create python code to backtest the trading strategy based on order flow calculated using the tick rule.\n",
    "\n",
    "The notebook is structured as follows:\n",
    "1. [Read the Data](#data)\n",
    "1. [Trading Signals](#tradingsignals)\n",
    "1. [Backtest the Trading Strategy](#backtest)\n",
    "1. [Performance Analysis](#performance)\n",
    "1. [Conclusion](#conclusion)\n",
    "\n",
    "\n",
    "\n",
    "\n",
    "\n",
    "\n",
    "## Import Libraries"
   ]
  },
  {
   "cell_type": "code",
   "execution_count": 1,
   "id": "737544db",
   "metadata": {},
   "outputs": [],
   "source": [
    "# For data manipulation\n",
    "import pandas as pd\n",
    "import numpy as np\n",
    "\n",
    "# Ignore warnings\n",
    "import warnings\n",
    "warnings.filterwarnings('ignore')\n",
    "\n",
    "# For plotting\n",
    "import matplotlib.pyplot as plt\n",
    "import matplotlib.dates as mdates"
   ]
  },
  {
   "cell_type": "markdown",
   "id": "57b315be",
   "metadata": {},
   "source": [
    "<a id='data'></a>\n",
    "## Read the Data\n",
    "Import the CSV file `tick_rule_es500_2013_10_02.csv` as the dataframe `tick_rule`. This CSV file has tick data in columns `bid`, `ask`, `trade_price`, `trade_size`, `tick_direction`, and `order_flow` with datetime in milliseconds as the index."
   ]
  },
  {
   "cell_type": "code",
   "execution_count": 2,
   "id": "6124f76c",
   "metadata": {},
   "outputs": [],
   "source": [
    "# Read the 'tick_rule_es500_2013_10_02.csv' csv file as 'tick_rule' dataframe\n",
    "tick_rule = pd.read_csv(\n",
    "    '../data_modules/tick_rule_es500_2013_10_02.csv', index_col=0)\n",
    "\n",
    "# Convert the index of the dataframe `tick_rule` to datetime format\n",
    "tick_rule.index = pd.to_datetime(tick_rule.index)"
   ]
  },
  {
   "cell_type": "markdown",
   "id": "67b08959",
   "metadata": {},
   "source": [
    "### Define the Order Flow Threshold \n",
    "Use the percentile of order flows in the last one min as the threshold for entering and exiting the trades. The 90 percentile, 75 percentile, 50 percentile, 25 percentile and 10 percentile of order flow are used in generating the trading signals. `percentile` method of `numpy` library is used to calculate the percentile of order flow in the `tick_rule` dataframe"
   ]
  },
  {
   "cell_type": "code",
   "execution_count": 3,
   "id": "299d8823",
   "metadata": {},
   "outputs": [
    {
     "name": "stdout",
     "output_type": "stream",
     "text": [
      "75th percentile of order flow is 4.0\n"
     ]
    }
   ],
   "source": [
    "# Example of calculating the 75 percentile of order flow in the 'tick_rule' dataframe\n",
    "percentile_75 = np.percentile(tick_rule.order_flow, 75)\n",
    "print(f'75th percentile of order flow is {percentile_75}')"
   ]
  },
  {
   "cell_type": "markdown",
   "id": "936af7ae",
   "metadata": {},
   "source": [
    "<a id='tradingsignals'></a>\n",
    "## Trading Signals\n",
    "\n",
    "**Long positions**\n",
    "\n",
    "* Buy at the midpoint of the tick if the net order flow in the last one minute is greater than the 75 percentile of the order flow in the last one minute.\n",
    "* If a long position is open\n",
    "    * The 90 percentile of the order flow in the last one minute is considered as a threshold for take profit.\n",
    "    * The 50 percentile of the order flow in the last one minute is considered as a threshold for stop loss.\n",
    "\n",
    "**Short positions**\n",
    "\n",
    "* Sell at the midpoint of the trade if the net order flow in the last one minute is less than the 25 percentile of the order flow in the last one minute.\n",
    "* If a short position is open\n",
    "    * The 10 percentile of the order flow in the last one minute is considered as a threshold for take profit.\n",
    "    * The 50 percentile of the order flow in the last one minute is considered as a threshold for stop loss."
   ]
  },
  {
   "cell_type": "code",
   "execution_count": 4,
   "id": "2ba7e287",
   "metadata": {},
   "outputs": [],
   "source": [
    "# Calculate the cumulative order flow and store it in the column 'cumulative_order_flow'\n",
    "tick_rule['cumulative_order_flow'] = tick_rule['order_flow'].cumsum()\n",
    "\n",
    "# Calculate the midpoint of the trade and store it in the column 'midpoint'\n",
    "tick_rule['midpoint'] = (tick_rule['bid'] + tick_rule['ask']) / 2"
   ]
  },
  {
   "cell_type": "markdown",
   "id": "847af3eb",
   "metadata": {},
   "source": [
    "<a id='backtest'></a>\n",
    "## Backtest the Trading Strategy\n",
    "Backtest the trading strategy with the trading signals defined above. Check the entry and exit conditions by looping through each trade of the `tick_rule` dataframe. If a trade is entered or exited, append the details of the trades such as `entry_time`, `exit_time`, `direction`, `entry_price`, and `exit_price` to the `trades` dataframe. <br> \n",
    "\n",
    "The following are the steps involved in backtesting the trading strategy. <br> <br> \n",
    "\n",
    "<img src=\"https://d2a032ejo53cab.cloudfront.net/Glossary/7WzZlDr4/tickrulebacktest-Steps.jpg\"><br>\n",
    "\n",
    "**Step-1:** Initialise the variable to keep track of the current position (pos).\n",
    "\n",
    "**Step-2:** Next, several empty lists and DataFrames are created to store additional trading data, including a list times when trades are entered and exited (entry_time and exit_time), and dataframe with detailed information about each trade (trades).\n",
    "\n",
    "**Step-3:** Initialise a list of all indices in the DataFrame and create a separate list of indices for the rows that fall within the previous one minute. \n",
    "\n",
    "**Step-4:** For each row in the `indices` list, calculate the net order flow value over the previous one minute and decide whether to enter, exit, or maintain a position based on the order flow strength. update the trading data structures as needed and print information about the trades being made. "
   ]
  },
  {
   "cell_type": "markdown",
   "id": "c8f44ed8",
   "metadata": {},
   "source": [
    "**Step-1:** Initialise the variable to keep track of the current position (pos)."
   ]
  },
  {
   "cell_type": "code",
   "execution_count": 5,
   "id": "31262571",
   "metadata": {},
   "outputs": [],
   "source": [
    "# Initialise the variable pos to 0, which will be used to keep track of the current position\n",
    "pos = 0"
   ]
  },
  {
   "cell_type": "markdown",
   "id": "36b6f960",
   "metadata": {},
   "source": [
    "**Step-2:** Initialise empty lists and dataframe to store additional trading data."
   ]
  },
  {
   "cell_type": "code",
   "execution_count": 6,
   "id": "71d5ddc9",
   "metadata": {},
   "outputs": [],
   "source": [
    "# Create an empty list called entry_time that will be used to store the time at which trades are entered\n",
    "entry_time = []\n",
    "\n",
    "# Create an empty list called exit_time that will be used to store the time at which trades are exited\n",
    "exit_time = []\n",
    "\n",
    "# Initialise an empty Pandas DataFrame called 'trades' to save trade details\n",
    "trades = pd.DataFrame(\n",
    "    columns=['entry_time', 'exit_time', 'direction', 'entry_price', 'exit_price'])"
   ]
  },
  {
   "cell_type": "markdown",
   "id": "234f8612",
   "metadata": {},
   "source": [
    "**Step-3:** Select the Indices\n",
    "In this trading strategy, we are collecting the ticks in the last one minute and calculating the net order flow. So, when we loop through the tick data, we need to make sure that the loop is starting after the first one minute. \n",
    "\n",
    "Create the list `indices` to save the indices of the `tick_rule` dataframe that occurred after the first one minute."
   ]
  },
  {
   "cell_type": "code",
   "execution_count": 7,
   "id": "c6d10f5b",
   "metadata": {},
   "outputs": [],
   "source": [
    "# Create a list of all indices in the dataframe and store it in `indices_total`\n",
    "indices_total = tick_rule.index.tolist()\n",
    "\n",
    "# Create a list of indices of ticks that happened after the first minute and store it in `indices`\n",
    "indices = [x for x in indices_total if x >\n",
    "           indices_total[0]+pd.Timedelta(minutes=1)]\n",
    "\n",
    "# Create a list of indices with ticks in the previous one minute from the index of the current row\n",
    "indices_in_last_one_min = []"
   ]
  },
  {
   "cell_type": "markdown",
   "id": "82f1ec8c",
   "metadata": {},
   "source": [
    "**Step-4:** For each row in the indices list, calculate the net order flow value over the previous one minute \n",
    "\n",
    "\n",
    "<img src=\"https://d2a032ejo53cab.cloudfront.net/Glossary/WMgxtK8r/backtest-Horizontal.jpg\" ><br>\n",
    "\n",
    "* If there is no open position `(pos==0)`, check for long and short entry conditions\n",
    "    * If the net order flow in the last one minute is greater than the threshold of the long entry and less than the long position's take-profit threshold, a long position is opened.\n",
    "    * If the net order flow in the last one minute is less than the threshold of the short entry and greater than the short position's take-profit threshold, a short position is opened. <br><br>\n",
    "* If there is an open long position `(pos>0)`, check for take-profit and stop-loss\n",
    "    * If the net order flow in the last one minute is greater than the long position's take-profit threshold, the long position is exited.\n",
    "    * If the net order flow in the last one minute is less than the long position's stop-loss threshold, the long position is exited.<br><br>\n",
    "* If there is an open short position `(pos<0)`, check for take-profit and stop-loss\n",
    "    * If the net order flow in the last one minute is less than the short position's take-profit threshold, the short position is exited.\n",
    "    * If the net order flow in the last one minute is greater than the short position's stop-loss threshold, the short position is exited.<br><br>     "
   ]
  },
  {
   "cell_type": "code",
   "execution_count": 8,
   "id": "cef585ab",
   "metadata": {},
   "outputs": [],
   "source": [
    "# Remove duplicate entries from the tick_rule dataframe, keeping only the first occurrence of each duplicated index value.\n",
    "tick_rule = tick_rule[~tick_rule.index.duplicated(keep='first')]"
   ]
  },
  {
   "cell_type": "markdown",
   "id": "27442b01",
   "metadata": {},
   "source": [
    "<i> <span style=\"color:#FFFFFF; background:#00C001\"> The following cells will not run in the browser. Download this notebook and convert the cells to \"Code\" type to run. </i>"
   ]
  },
  {
   "cell_type": "raw",
   "id": "cf3c9748",
   "metadata": {
    "scrolled": true
   },
   "source": [
    "# Looping over the indices filtered\n",
    "for i in range(1, len(indices)):\n",
    "\n",
    "    # Set the current index to the i-1 th index of the 'indices' list\n",
    "    current_index = indices[i-1]\n",
    "\n",
    "    # Set the start index to 1 minute before the current index\n",
    "    start_index = current_index - pd.Timedelta(milliseconds=60000)\n",
    "\n",
    "    # Find all indices within the previous one minute from the index of the current row\n",
    "    indices_within_one_min = [\n",
    "        j for j in indices_total if j >= start_index and j < current_index]\n",
    "\n",
    "    # If there is only one tick within the previous one minute\n",
    "    if len(indices_within_one_min) == 1:\n",
    "\n",
    "        # Get the order flow for the single tick\n",
    "        order_flow = tick_rule.loc[indices_within_one_min].order_flow.iloc[0]\n",
    "        number_of_ticks = 1\n",
    "\n",
    "    # If there are multiple ticks within the previous one minute\n",
    "    elif len(indices_within_one_min) > 1:\n",
    "\n",
    "        # Calculate the net order flow by taking the difference between the cumulative order flow at the beginning and end of the minute\n",
    "        order_flow = (tick_rule.loc[indices_within_one_min].cumulative_order_flow.iloc[-1]) - (\n",
    "            tick_rule.loc[indices_within_one_min].cumulative_order_flow.iloc[0])\n",
    "\n",
    "    # Calculate various order flow thresholds based on percentiles\n",
    "    # long_entry_threshold: 75th percentile of order flow in the last one minute as the threshold for the long entry\n",
    "    long_entry_threshold = np.percentile(\n",
    "        tick_rule.loc[start_index:current_index].order_flow, 75)\n",
    "\n",
    "    # long_exit_threshold: 50th percentile of order flow in the last one minute as the stop-loss threshold for the long exit\n",
    "    long_exit_threshold = np.percentile(\n",
    "        tick_rule.loc[start_index:current_index].order_flow, 50)\n",
    "\n",
    "    # long_takeprofit_threshold: 90th percentile of order flow in the last one minute as the take-profit threshold for the long exit\n",
    "    long_takeprofit_threshold = np.percentile(\n",
    "        tick_rule.loc[start_index:current_index].order_flow, 90)\n",
    "\n",
    "    # short_entry_threshold: 25th percentile of order flow in the last one minute as the threshold for the short entry\n",
    "    short_entry_threshold = np.percentile(\n",
    "        tick_rule.loc[start_index:current_index].order_flow, 25)\n",
    "\n",
    "    # short_exit_threshold: 50th percentile of order flow in the last one minute as the stop-loss threshold for the short exit\n",
    "    short_exit_threshold = np.percentile(\n",
    "        tick_rule.loc[start_index:current_index].order_flow, 50)\n",
    "\n",
    "    # short_takeprofit_threshold: 10th percentile of order flow in the last one minute as the take-profit threshold for the short exit\n",
    "    short_takeprofit_threshold = np.percentile(\n",
    "        tick_rule.loc[start_index:current_index].order_flow, 10)\n",
    "\n",
    "\n",
    "# Check if there are any open positions\n",
    "    if (pos == 0):\n",
    "\n",
    "        # Check if the net order flow is strong and positive\n",
    "        if (order_flow > long_entry_threshold and order_flow < long_takeprofit_threshold ):\n",
    "\n",
    "            # Enter long position\n",
    "            print('Entering long position')\n",
    "            print('Long entering time', indices[i])\n",
    "\n",
    "            # Note the long entry time\n",
    "            entry_time = indices[i]\n",
    "\n",
    "            # Note the entry price\n",
    "            entry_price = tick_rule.loc[indices[i]].midpoint\n",
    "\n",
    "            # Set pos to 1 since long trade was entered\n",
    "            pos = 1\n",
    "            print('pos is ', pos)\n",
    "\n",
    "        # Check if the net order flow is weak and negative\n",
    "        elif (order_flow < short_entry_threshold and order_flow > short_takeprofit_threshold ):\n",
    "\n",
    "            # Enter short position\n",
    "            print('entering short')\n",
    "            print('short entering time', indices[i])\n",
    "\n",
    "            # Note the short entry time\n",
    "            entry_time = indices[i]\n",
    "\n",
    "            # Note the entry price\n",
    "            entry_price = tick_rule.loc[indices[i]].midpoint\n",
    "\n",
    "            # Set pos to -1 since short trade was entered\n",
    "            pos = -1\n",
    "            print('pos is ', pos)\n",
    "\n",
    "    # Check if there is an open long position\n",
    "    elif (pos > 0):\n",
    "\n",
    "        # Check if the net order flow has fallen below the exit threshold or risen above the take profit threshold\n",
    "        if (order_flow <= long_exit_threshold or order_flow >= long_takeprofit_threshold):\n",
    "\n",
    "            # Exit long position\n",
    "            print('exiting long')\n",
    "            print('long exiting time', indices[i])\n",
    "\n",
    "            # Adding trade to trades dataframe since the trade is getting closed\n",
    "            # Columns: 'entry_time', 'exit_time', 'direction', 'entry_price', 'exit_price'\n",
    "            trades.loc[entry_time] = [entry_time, indices[i],\n",
    "                                      1, entry_price, tick_rule.loc[indices[i]].midpoint]\n",
    "            print([entry_time, indices[i],\n",
    "                   1, entry_price, tick_rule.loc[indices[i]].midpoint])\n",
    "            # Set pos to 0 since the long trade was exited\n",
    "            pos = 0\n",
    "            print('pos is ', pos)\n",
    "            print('**************** Trade Ended ****************')\n",
    "\n",
    "    # Check if there is an open short position\n",
    "    elif (pos < 0):\n",
    "\n",
    "        # Check if the net order flow has risen above the exit threshold or fallen below the take profit threshold\n",
    "        if (order_flow >= short_exit_threshold or order_flow <= short_takeprofit_threshold):\n",
    "\n",
    "            # Exit short position\n",
    "            print('exiting short')\n",
    "            print('short exiting time', indices[i])\n",
    "\n",
    "            # Adding trade to trades dataframe since the trade is getting closed\n",
    "            # Columns: 'entry_time', 'exit_time', 'direction', 'entry_price', 'exit_price'\n",
    "            trades.loc[entry_time] = [entry_time, indices[i],\n",
    "                                      -1, entry_price, tick_rule.loc[indices[i]].midpoint]\n",
    "            print([entry_time, indices[i],\n",
    "                   1, entry_price, tick_rule.loc[indices[i]].midpoint])\n",
    "            # Set pos to 0 since the short trade was exited\n",
    "            pos = 0\n",
    "            print('pos is ', pos)\n",
    "            print('**************** Trade Ended ****************')"
   ]
  },
  {
   "cell_type": "markdown",
   "id": "e2c43eef",
   "metadata": {},
   "source": [
    "<a id='performance'></a>\n",
    "## Performance Analysis\n",
    "The `trades` dataframe has the columns `entry_time`, `exit_time`, `direction`, `entry_price`, `exit_price`.<br>\n",
    "* Calculate the profit and loss of each trade using the `direction`, `entry_price` and `exit_price`. Store the profit and loss values in the `pnl` column of the `trades` dataframe.\n",
    "* Calculate the `returns` of each trade using the `pnl` and `entry_price` column. Store the returns of each trade in the `returns` column."
   ]
  },
  {
   "cell_type": "code",
   "execution_count": 10,
   "id": "e7b96645",
   "metadata": {},
   "outputs": [
    {
     "data": {
      "text/html": [
       "<div>\n",
       "<style scoped>\n",
       "    .dataframe tbody tr th:only-of-type {\n",
       "        vertical-align: middle;\n",
       "    }\n",
       "\n",
       "    .dataframe tbody tr th {\n",
       "        vertical-align: top;\n",
       "    }\n",
       "\n",
       "    .dataframe thead th {\n",
       "        text-align: right;\n",
       "    }\n",
       "</style>\n",
       "<table border=\"1\" class=\"dataframe\">\n",
       "  <thead>\n",
       "    <tr style=\"text-align: right;\">\n",
       "      <th></th>\n",
       "      <th>entry_time</th>\n",
       "      <th>exit_time</th>\n",
       "      <th>direction</th>\n",
       "      <th>entry_price</th>\n",
       "      <th>exit_price</th>\n",
       "      <th>pnl</th>\n",
       "      <th>returns</th>\n",
       "    </tr>\n",
       "  </thead>\n",
       "  <tbody>\n",
       "    <tr>\n",
       "      <th>2013-10-02 23:50:33.129600</th>\n",
       "      <td>2013-10-02 23:50:33.129600</td>\n",
       "      <td>2013-10-02 23:50:33.648000</td>\n",
       "      <td>-1</td>\n",
       "      <td>1438.125</td>\n",
       "      <td>1438.125</td>\n",
       "      <td>-0.0</td>\n",
       "      <td>-0.0</td>\n",
       "    </tr>\n",
       "    <tr>\n",
       "      <th>2013-10-02 23:50:50.668800</th>\n",
       "      <td>2013-10-02 23:50:50.668800</td>\n",
       "      <td>2013-10-02 23:50:56.803200</td>\n",
       "      <td>-1</td>\n",
       "      <td>1438.125</td>\n",
       "      <td>1438.125</td>\n",
       "      <td>-0.0</td>\n",
       "      <td>-0.0</td>\n",
       "    </tr>\n",
       "    <tr>\n",
       "      <th>2013-10-02 23:52:19.315200</th>\n",
       "      <td>2013-10-02 23:52:19.315200</td>\n",
       "      <td>2013-10-02 23:52:23.203200</td>\n",
       "      <td>1</td>\n",
       "      <td>1438.125</td>\n",
       "      <td>1438.125</td>\n",
       "      <td>0.0</td>\n",
       "      <td>0.0</td>\n",
       "    </tr>\n",
       "    <tr>\n",
       "      <th>2013-10-02 23:55:13.065600</th>\n",
       "      <td>2013-10-02 23:55:13.065600</td>\n",
       "      <td>2013-10-02 23:55:14.016000</td>\n",
       "      <td>-1</td>\n",
       "      <td>1438.125</td>\n",
       "      <td>1438.125</td>\n",
       "      <td>-0.0</td>\n",
       "      <td>-0.0</td>\n",
       "    </tr>\n",
       "    <tr>\n",
       "      <th>2013-10-02 23:57:52.128000</th>\n",
       "      <td>2013-10-02 23:57:52.128000</td>\n",
       "      <td>2013-10-02 23:58:09.667200</td>\n",
       "      <td>-1</td>\n",
       "      <td>1437.875</td>\n",
       "      <td>1437.875</td>\n",
       "      <td>-0.0</td>\n",
       "      <td>-0.0</td>\n",
       "    </tr>\n",
       "  </tbody>\n",
       "</table>\n",
       "</div>"
      ],
      "text/plain": [
       "                                           entry_time  \\\n",
       "2013-10-02 23:50:33.129600 2013-10-02 23:50:33.129600   \n",
       "2013-10-02 23:50:50.668800 2013-10-02 23:50:50.668800   \n",
       "2013-10-02 23:52:19.315200 2013-10-02 23:52:19.315200   \n",
       "2013-10-02 23:55:13.065600 2013-10-02 23:55:13.065600   \n",
       "2013-10-02 23:57:52.128000 2013-10-02 23:57:52.128000   \n",
       "\n",
       "                                            exit_time  direction  entry_price  \\\n",
       "2013-10-02 23:50:33.129600 2013-10-02 23:50:33.648000         -1     1438.125   \n",
       "2013-10-02 23:50:50.668800 2013-10-02 23:50:56.803200         -1     1438.125   \n",
       "2013-10-02 23:52:19.315200 2013-10-02 23:52:23.203200          1     1438.125   \n",
       "2013-10-02 23:55:13.065600 2013-10-02 23:55:14.016000         -1     1438.125   \n",
       "2013-10-02 23:57:52.128000 2013-10-02 23:58:09.667200         -1     1437.875   \n",
       "\n",
       "                            exit_price  pnl  returns  \n",
       "2013-10-02 23:50:33.129600    1438.125 -0.0     -0.0  \n",
       "2013-10-02 23:50:50.668800    1438.125 -0.0     -0.0  \n",
       "2013-10-02 23:52:19.315200    1438.125  0.0      0.0  \n",
       "2013-10-02 23:55:13.065600    1438.125 -0.0     -0.0  \n",
       "2013-10-02 23:57:52.128000    1437.875 -0.0     -0.0  "
      ]
     },
     "execution_count": 10,
     "metadata": {},
     "output_type": "execute_result"
    }
   ],
   "source": [
    "# Profit and loss of trades\n",
    "trades['pnl'] = trades.direction*(trades.exit_price - trades.entry_price)\n",
    "\n",
    "# Returns of each trade\n",
    "trades['returns'] = 100 * trades['pnl']/trades['entry_price']\n",
    "\n",
    "# Print last 5 trades\n",
    "trades.tail()"
   ]
  },
  {
   "cell_type": "markdown",
   "id": "bccaebc3",
   "metadata": {},
   "source": [
    "Calculate the cumulative return of each trade using the `cumprod()` method and `returns` column. "
   ]
  },
  {
   "cell_type": "code",
   "execution_count": 11,
   "id": "193df06d",
   "metadata": {},
   "outputs": [
    {
     "name": "stdout",
     "output_type": "stream",
     "text": [
      "Cumulative returns of the strategy: 0.127 %\n"
     ]
    }
   ],
   "source": [
    "# Calculate the cumulative return\n",
    "cumulative_return = (1 + trades['returns']).cumprod() - 1\n",
    "\n",
    "# Print cumulative returns of the strategy\n",
    "print(\n",
    "    f'Cumulative returns of the strategy: {np.round(cumulative_return[-1],4)} %')"
   ]
  },
  {
   "cell_type": "markdown",
   "id": "a464f162",
   "metadata": {},
   "source": [
    "## Plot the Performance\n",
    "Create a line chart to visualise the cumulative returns of the trading strategy."
   ]
  },
  {
   "cell_type": "code",
   "execution_count": 12,
   "id": "ee0a0513",
   "metadata": {},
   "outputs": [
    {
     "data": {
      "image/png": "[encoded data removed]",
      "text/plain": [
       "<Figure size 1080x504 with 1 Axes>"
      ]
     },
     "metadata": {
      "needs_background": "light"
     },
     "output_type": "display_data"
    }
   ],
   "source": [
    "# Create a figure and subplot with a specific size\n",
    "fig, ax = plt.subplots(figsize=(15, 7))\n",
    "\n",
    "# Plot the cumulative return\n",
    "ax.plot(cumulative_return.index, cumulative_return.values)\n",
    "\n",
    "# Set the x-axis label and font size\n",
    "ax.set_xlabel('Timestamp', fontsize=12)\n",
    "\n",
    "# Set the y-axis label\n",
    "ax.set_ylabel('Cumulative Return', fontsize=12)\n",
    "\n",
    "# Set the title of the plot\n",
    "ax.set_title('Cumulative Return Over Time')\n",
    "\n",
    "# Display the plot\n",
    "plt.show()"
   ]
  },
  {
   "cell_type": "markdown",
   "id": "b807ade7",
   "metadata": {},
   "source": [
    "<a id='conclusion'></a>\n",
    "## Conclusion\n",
    "In this notebook, we have backtested the order flow trading strategy with a look-back period of 1 min. The performance of the strategy will be different for different look-back periods and thresholds to calculate the entry, and exit conditions of the trade. Try the same approach to backtest this trading strategy on order flow calculated by the bulk volume classification method. <br> <br>"
   ]
  }
 ],
 "metadata": {
  "kernelspec": {
   "display_name": "Python 3 (ipykernel)",
   "language": "python",
   "name": "python3"
  },
  "language_info": {
   "codemirror_mode": {
    "name": "ipython",
    "version": 3
   },
   "file_extension": ".py",
   "mimetype": "text/x-python",
   "name": "python",
   "nbconvert_exporter": "python",
   "pygments_lexer": "ipython3",
   "version": "3.11.9"
  }
 },
 "nbformat": 4,
 "nbformat_minor": 5
}
