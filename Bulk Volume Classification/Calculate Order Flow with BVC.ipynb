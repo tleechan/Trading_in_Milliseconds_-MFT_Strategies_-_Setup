{
 "cells": [
  {
   "cell_type": "markdown",
   "id": "dd7c8140",
   "metadata": {},
   "source": [
    "## Notebook Instructions\n",
    "\n",
    "1. If you are new to Jupyter notebooks, please go through this introductory manual <a href='https://quantra.quantinsti.com/quantra-notebook' target=\"_blank\">here</a>.\n",
    "1. Any changes made in this notebook would be lost after you close the browser window. **You can download the notebook to save your work on your PC.**\n",
    "1. Before running this notebook on your local PC:<br>\n",
    "i.  You need to set up a Python environment and the relevant packages on your local PC. To do so, go through the section on \"**Run Codes Locally on Your Machine**\" in the course.<br>\n",
    "ii. You need to **download the zip file available in the last unit** of this course. The zip file contains the data files and/or python modules that might be required to run this notebook."
   ]
  },
  {
   "cell_type": "markdown",
   "id": "d007f005",
   "metadata": {},
   "source": [
    "## Bulk Volume Classification \n",
    "In the previous unit, you learnt to calculate the order flow of time bars and volume bars using the bulk volume classification (BVC) method. In this notebook, you will learn to implement the same in python. <br>\n",
    "* In the case of time bars, the BVC method uses the change in 'price per unit volume' to calculate the order flow. The 'price per unit volume' is used to capture the volume information in time bars. <br>\n",
    "* On the other hand, in the case of volume bars, the BVC method uses the price change to calculate the order flow. Just the price change was used since the volume bars already capture the information from the volume.\n",
    "\n",
    "In this notebook, you will implement the BVC method to calculate the order flow for the time bars and volume bars in python. \n",
    "\n",
    "The notebook is structured as follows:\n",
    "1. [Read the Time Bars Data](#timebarsdata)\n",
    "1. [Calculate Order Flow: Time Bars](#orderflowtimebars)\n",
    "1. [Plot the Order Flow: Time Bars](#plottimebars)\n",
    "1. [Calculate Order Flow: Volume Bars](#calculateorderflowvolumebars)\n",
    "1. [Plot the Order Flow: Volume Bars](#plotvolumebars)\n",
    "1. [Conclusion and Next Steps](#conclusion)\n",
    "\n",
    "\n",
    "\n",
    "\n",
    "## Import Libraries"
   ]
  },
  {
   "cell_type": "code",
   "execution_count": 1,
   "id": "3bb80b30",
   "metadata": {},
   "outputs": [],
   "source": [
    "# For data manipulation\n",
    "import pandas as pd\n",
    "import numpy as np\n",
    "from scipy.stats import norm\n",
    "\n",
    "# Ignore warnings\n",
    "import warnings\n",
    "warnings.filterwarnings('ignore')\n",
    "\n",
    "# For plotting\n",
    "import matplotlib.pyplot as plt\n",
    "import matplotlib.dates as mdates"
   ]
  },
  {
   "cell_type": "markdown",
   "id": "cf0bf25f",
   "metadata": {},
   "source": [
    "<a id='timebarsdata'></a>\n",
    "## Read the Time Bars Data\n",
    "Import the csv `time_bars_es500_2013_10_02_100_milliseconds.csv` as the dataframe `time_bars`. This CSV was created in the notebook of the previous section with the unit name - 'Calculate Time and Volume Bars'. This csv file has 100 millisecond time bars of E-mini S&P 500 futures for the date `2013-10-02`. This dataset has columns `open`, `high`, `low`, `close` and `volume`. This csv file is available in the zip file of the unit 'Python Codes and Data' in the 'Course Summary' section. "
   ]
  },
  {
   "cell_type": "code",
   "execution_count": 2,
   "id": "90ce6344",
   "metadata": {},
   "outputs": [
    {
     "data": {
      "text/html": [
       "<div>\n",
       "<style scoped>\n",
       "    .dataframe tbody tr th:only-of-type {\n",
       "        vertical-align: middle;\n",
       "    }\n",
       "\n",
       "    .dataframe tbody tr th {\n",
       "        vertical-align: top;\n",
       "    }\n",
       "\n",
       "    .dataframe thead th {\n",
       "        text-align: right;\n",
       "    }\n",
       "</style>\n",
       "<table border=\"1\" class=\"dataframe\">\n",
       "  <thead>\n",
       "    <tr style=\"text-align: right;\">\n",
       "      <th></th>\n",
       "      <th>open</th>\n",
       "      <th>high</th>\n",
       "      <th>low</th>\n",
       "      <th>close</th>\n",
       "      <th>volume</th>\n",
       "    </tr>\n",
       "  </thead>\n",
       "  <tbody>\n",
       "    <tr>\n",
       "      <th>2013-10-02 00:00:00.600</th>\n",
       "      <td>1428.75</td>\n",
       "      <td>1428.75</td>\n",
       "      <td>1428.75</td>\n",
       "      <td>1428.75</td>\n",
       "      <td>1.0</td>\n",
       "    </tr>\n",
       "    <tr>\n",
       "      <th>2013-10-02 00:00:10.900</th>\n",
       "      <td>1428.75</td>\n",
       "      <td>1428.75</td>\n",
       "      <td>1428.75</td>\n",
       "      <td>1428.75</td>\n",
       "      <td>25.0</td>\n",
       "    </tr>\n",
       "    <tr>\n",
       "      <th>2013-10-02 00:00:19.400</th>\n",
       "      <td>1429.00</td>\n",
       "      <td>1429.00</td>\n",
       "      <td>1429.00</td>\n",
       "      <td>1429.00</td>\n",
       "      <td>28.0</td>\n",
       "    </tr>\n",
       "    <tr>\n",
       "      <th>2013-10-02 00:00:19.500</th>\n",
       "      <td>1429.00</td>\n",
       "      <td>1429.00</td>\n",
       "      <td>1429.00</td>\n",
       "      <td>1429.00</td>\n",
       "      <td>28.0</td>\n",
       "    </tr>\n",
       "    <tr>\n",
       "      <th>2013-10-02 00:00:19.600</th>\n",
       "      <td>1429.00</td>\n",
       "      <td>1429.00</td>\n",
       "      <td>1429.00</td>\n",
       "      <td>1429.00</td>\n",
       "      <td>3.0</td>\n",
       "    </tr>\n",
       "  </tbody>\n",
       "</table>\n",
       "</div>"
      ],
      "text/plain": [
       "                            open     high      low    close  volume\n",
       "2013-10-02 00:00:00.600  1428.75  1428.75  1428.75  1428.75     1.0\n",
       "2013-10-02 00:00:10.900  1428.75  1428.75  1428.75  1428.75    25.0\n",
       "2013-10-02 00:00:19.400  1429.00  1429.00  1429.00  1429.00    28.0\n",
       "2013-10-02 00:00:19.500  1429.00  1429.00  1429.00  1429.00    28.0\n",
       "2013-10-02 00:00:19.600  1429.00  1429.00  1429.00  1429.00     3.0"
      ]
     },
     "execution_count": 2,
     "metadata": {},
     "output_type": "execute_result"
    }
   ],
   "source": [
    "# Read the 'time_bars_es500_2013_10_02' csv file as 'time_bars' dataframe\n",
    "time_bars = pd.read_csv('../data_modules/time_bars_es500_2013_10_02_100_milliseconds.csv', index_col=0)\n",
    "\n",
    "# Print the data of first five time bars\n",
    "time_bars.head()"
   ]
  },
  {
   "cell_type": "markdown",
   "id": "46c7f89a",
   "metadata": {},
   "source": [
    "<a id='orderflowtimebars'></a>\n",
    "## Calculate Order Flow: Time Bars\n",
    "\n",
    "According to the bulk volume classification, the order flow is the difference between buy volume and sell volume.<br>\n",
    "The BVC method uses the change in 'price per unit volume' to calculate order flow using the time bars. \n",
    "\n",
    "![BVC_Time_Bars.jpg](https://d2a032ejo53cab.cloudfront.net/Glossary/Fa6qnFwv/Untitled-Diagram-Page-1.drawio.png) <br>\n",
    "\n",
    "\n",
    "#### Steps to calculate the order flow using BVC method for time bars\n",
    "\n",
    "**Step-1:** Price per unit volume<br>\n",
    "**Step-2:** Price change<br>\n",
    "**Step-3:** Standard deviation of price change<br>\n",
    "**Step-4:** Buy volume<br>\n",
    "**Step-5:** Sell volume<br>\n",
    "**Step-6:** Order flow <br>\n",
    "\n",
    "### Price per Unit Volume\n",
    "**Step-1:** Price per Unit Volume<br><br>\n",
    "The price per unit volume is calculated by dividing the `close` with `volume`."
   ]
  },
  {
   "cell_type": "code",
   "execution_count": 3,
   "id": "be14a7a0",
   "metadata": {},
   "outputs": [],
   "source": [
    "# Calculate price per unit volume\n",
    "time_bars['price_per_unit_volume'] = time_bars.close/time_bars.volume"
   ]
  },
  {
   "cell_type": "markdown",
   "id": "b3b84b99",
   "metadata": {},
   "source": [
    "### Price Change\n",
    "**Step-2:** Price Change <br><br>\n",
    "To calculate the the price change, use the `diff()` method on `price_per_unit_volume`."
   ]
  },
  {
   "cell_type": "code",
   "execution_count": 4,
   "id": "a9f12a40",
   "metadata": {},
   "outputs": [],
   "source": [
    "# Calculate change in price per unit volume\n",
    "time_bars['price_change'] = time_bars.price_per_unit_volume.diff()"
   ]
  },
  {
   "cell_type": "markdown",
   "id": "5d704d81",
   "metadata": {},
   "source": [
    "### Standard Deviation of price change\n",
    "**Step-3:** Standard deviation of price change<br>\n",
    "\n",
    "* Calculate the  standard deviation of the price change for each row by using the data till the current row in the `time_bars` dataframe. <br>\n",
    "* The `expanding()` method is used to create a rolling window that starts from the first row of the dataframe and expands with each subsequent row.<br>\n",
    "* The `std()` method is then applied to this expanding window to calculate the standard deviation of the price change values within the window. The resulting standard deviation value is then assigned to the `std` column in the `time_bars` dataframe. \n"
   ]
  },
  {
   "cell_type": "code",
   "execution_count": 5,
   "id": "b904edbb",
   "metadata": {},
   "outputs": [],
   "source": [
    "# Calculate standard deviation of change in price per unit volume\n",
    "time_bars['std'] = time_bars['price_change'].expanding().std()"
   ]
  },
  {
   "cell_type": "markdown",
   "id": "4955af19",
   "metadata": {},
   "source": [
    "### Buy Volume\n",
    "**Step-4:** Buy volume<br><br>\n",
    "The following equation is used to calculate the buy volume.<br> \n",
    "\n",
    "**Buy Volume ($V_{B}$) :** \n",
    "<img src=\"https://d2a032ejo53cab.cloudfront.net/Glossary/WMG0hHUr/buy-volume.png\" width=\"400\"><br>\n",
    "\n",
    "* In the above equation P(t) and P(t-1) represent the close prices of the current time bar and previous time bars. <br>\n",
    "* V(t) is the volume of the current time bar and Z represents the cumulative Gaussian distribution function. <br>\n",
    "\n",
    "The `norm()` module from the `scipy.stats` library is used to calculate the cumulative distribution function of a Gaussian distribution. `norm.cdf(x)` outputs the cumulative distribution function of a gaussian distribution at x."
   ]
  },
  {
   "cell_type": "code",
   "execution_count": 6,
   "id": "f5b567c4",
   "metadata": {},
   "outputs": [],
   "source": [
    "# Calculate the buy volume and store it in the column 'buy_volume' in the dataframe 'time_bars'\n",
    "time_bars['buy_volume'] = time_bars['volume'] * \\\n",
    "    ((time_bars['price_change']/time_bars['std'])\n",
    "     .apply(lambda x: norm.cdf(x)))"
   ]
  },
  {
   "cell_type": "markdown",
   "id": "554271e7",
   "metadata": {},
   "source": [
    "**Step-5:** Sell volume<br><br>\n",
    "The sell volume is calculated by subtracting the buy volume from the total volume. <br><br>\n",
    "**Sell Volume ($V_{S}$) :** \n",
    "<img src=\"https://d2a032ejo53cab.cloudfront.net/Glossary/AUjuhqYv/sell-volume.png\" width=\"250\"><br>"
   ]
  },
  {
   "cell_type": "code",
   "execution_count": 7,
   "id": "922c6791",
   "metadata": {},
   "outputs": [],
   "source": [
    "# Calculate the sell volume and store it in the column 'sell_volume' in the dataframe 'time_bars'\n",
    "time_bars['sell_volume'] = time_bars['volume']-time_bars['buy_volume']"
   ]
  },
  {
   "cell_type": "markdown",
   "id": "b5797933",
   "metadata": {},
   "source": [
    " **Step-6:** Order flow<br>\n",
    " \n",
    " As per the bulk volume classification method, the order flow is the difference between the buy volume and sell volume.<br><br>\n",
    "**Order Flow :** \n",
    "\n",
    "<img src=\"https://d2a032ejo53cab.cloudfront.net/Glossary/ND2zWxjw/orderflow.png\" width=\"300\"><br>"
   ]
  },
  {
   "cell_type": "code",
   "execution_count": 8,
   "id": "2c7703e2",
   "metadata": {
    "code_folding": []
   },
   "outputs": [],
   "source": [
    "# Calculate the order flow and store it in the column 'order_flow' of the dataframe 'time_bars'\n",
    "time_bars['order_flow'] = time_bars['buy_volume']-time_bars['sell_volume']\n",
    "\n",
    "# Select columns for the order flow dataframe and drop rows with any missing data\n",
    "time_bars = time_bars[['buy_volume', 'sell_volume', 'order_flow']]\n",
    "time_bars = time_bars.dropna()"
   ]
  },
  {
   "cell_type": "markdown",
   "id": "335dfc79",
   "metadata": {},
   "source": [
    "### BVC order flow function\n",
    "The following is the function named `bvc` which takes time bars as input and returns a dataframe with columns `buy_volume`, `sell_volume`, `order_flow`."
   ]
  },
  {
   "cell_type": "code",
   "execution_count": 9,
   "id": "3edd3485",
   "metadata": {},
   "outputs": [],
   "source": [
    "def bvc(data):\n",
    "    # Calculate price per unit volume\n",
    "    data['price_per_unit_volume'] = data['close']/data['volume']\n",
    "\n",
    "    # Calculate change in price per unit volume\n",
    "    data['price_change'] = data.price_per_unit_volume.diff()\n",
    "\n",
    "    # Calculate standard deviation of change in price per unit volume\n",
    "    data['std'] = data['price_change'].expanding().std()\n",
    "\n",
    "    # Calculate the buy volume and store it in the column 'buy_volume' in the dataframe 'data'\n",
    "    data['buy_volume'] = data['volume'] * \\\n",
    "        ((data['price_change']/data['std'])\n",
    "         .apply(lambda x: norm.cdf(x)))\n",
    "\n",
    "    # Calculate the sell volume and store it in the column 'sell_volume' in the dataframe 'data'\n",
    "    data['sell_volume'] = data['volume']-data['buy_volume']\n",
    "\n",
    "    # Calculate the order flow and store it in the column 'order_flow' of the dataframe 'data'\n",
    "    data['order_flow'] = data['buy_volume']-data['sell_volume']\n",
    "\n",
    "    # Select columns for the order flow dataframe and drop rows with any missing data\n",
    "    data = data[['buy_volume', 'sell_volume', 'order_flow']]\n",
    "    data = data.dropna()\n",
    "\n",
    "    return data"
   ]
  },
  {
   "cell_type": "code",
   "execution_count": 10,
   "id": "9044fd2b",
   "metadata": {},
   "outputs": [
    {
     "data": {
      "text/html": [
       "<div>\n",
       "<style scoped>\n",
       "    .dataframe tbody tr th:only-of-type {\n",
       "        vertical-align: middle;\n",
       "    }\n",
       "\n",
       "    .dataframe tbody tr th {\n",
       "        vertical-align: top;\n",
       "    }\n",
       "\n",
       "    .dataframe thead th {\n",
       "        text-align: right;\n",
       "    }\n",
       "</style>\n",
       "<table border=\"1\" class=\"dataframe\">\n",
       "  <thead>\n",
       "    <tr style=\"text-align: right;\">\n",
       "      <th></th>\n",
       "      <th>buy_volume</th>\n",
       "      <th>sell_volume</th>\n",
       "      <th>order_flow</th>\n",
       "    </tr>\n",
       "  </thead>\n",
       "  <tbody>\n",
       "    <tr>\n",
       "      <th>2013-10-02 23:59:19.900</th>\n",
       "      <td>0.322077</td>\n",
       "      <td>2.677923</td>\n",
       "      <td>-2.355847</td>\n",
       "    </tr>\n",
       "    <tr>\n",
       "      <th>2013-10-02 23:59:24.600</th>\n",
       "      <td>1.753503</td>\n",
       "      <td>2.246497</td>\n",
       "      <td>-0.492993</td>\n",
       "    </tr>\n",
       "    <tr>\n",
       "      <th>2013-10-02 23:59:35.000</th>\n",
       "      <td>0.918562</td>\n",
       "      <td>0.081438</td>\n",
       "      <td>0.837123</td>\n",
       "    </tr>\n",
       "    <tr>\n",
       "      <th>2013-10-02 23:59:37.500</th>\n",
       "      <td>0.352267</td>\n",
       "      <td>1.647733</td>\n",
       "      <td>-1.295465</td>\n",
       "    </tr>\n",
       "    <tr>\n",
       "      <th>2013-10-02 23:59:55.000</th>\n",
       "      <td>1.000000</td>\n",
       "      <td>1.000000</td>\n",
       "      <td>0.000000</td>\n",
       "    </tr>\n",
       "  </tbody>\n",
       "</table>\n",
       "</div>"
      ],
      "text/plain": [
       "                         buy_volume  sell_volume  order_flow\n",
       "2013-10-02 23:59:19.900    0.322077     2.677923   -2.355847\n",
       "2013-10-02 23:59:24.600    1.753503     2.246497   -0.492993\n",
       "2013-10-02 23:59:35.000    0.918562     0.081438    0.837123\n",
       "2013-10-02 23:59:37.500    0.352267     1.647733   -1.295465\n",
       "2013-10-02 23:59:55.000    1.000000     1.000000    0.000000"
      ]
     },
     "execution_count": 10,
     "metadata": {},
     "output_type": "execute_result"
    }
   ],
   "source": [
    "# Calculate the order flow using the bvc function and store it in `time_bars`\n",
    "time_bars = bvc(pd.read_csv('../data_modules/time_bars_es500_2013_10_02_100_milliseconds.csv', index_col=0))\n",
    "\n",
    "# Print the last 5 rows of the dataframe `time_bars`\n",
    "time_bars.tail()"
   ]
  },
  {
   "cell_type": "markdown",
   "id": "09f62855",
   "metadata": {},
   "source": [
    "<a id='plottimebars'></a>\n",
    "## Plot the Order Flow: Time Bars\n",
    "\n",
    "Create a bar chart to visualise the order flow data for the last 100 time bars. The data is defined as the variable `plot_data` which is a slice of the original `time_bars` data. <br>\n",
    "Plot the positive and negative order flow bars separately in green and red, respectively."
   ]
  },
  {
   "cell_type": "code",
   "execution_count": 11,
   "id": "108c7698",
   "metadata": {},
   "outputs": [
    {
     "data": {
      "image/png": "[encoded data removed]",
      "text/plain": [
       "<Figure size 1500x700 with 1 Axes>"
      ]
     },
     "metadata": {},
     "output_type": "display_data"
    }
   ],
   "source": [
    "# Define the data to be plotted\n",
    "plot_data = time_bars[-100:]\n",
    "\n",
    "# Convert the index to datetime format\n",
    "plot_data.index = pd.to_datetime(plot_data.index)\n",
    "\n",
    "# Create a figure and subplot with a specific size\n",
    "fig, ax = plt.subplots(figsize=(15, 7))\n",
    "\n",
    "# Plot the positive order flow bars\n",
    "ax.bar(plot_data.index[plot_data['order_flow'] > 0],  plot_data['order_flow']\n",
    "       [plot_data['order_flow'] > 0].values, color='g', alpha=0.5, width=0.00005)\n",
    "\n",
    "# Plot the negative order flow bars\n",
    "ax.bar(plot_data.index[plot_data['order_flow'] < 0],  plot_data['order_flow']\n",
    "       [plot_data['order_flow'] < 0].values, color='r', alpha=0.5, width=0.00005)\n",
    "\n",
    "# Add a horizontal line at y=0\n",
    "ax.axhline(y=0, color='black', linewidth=0.3)\n",
    "\n",
    "# Set the title of the plot\n",
    "ax.set_title('Order Flow: Time Bars')\n",
    "\n",
    "# Set the x-axis label and font size\n",
    "ax.set_xlabel('Time (HH:MM:SS)', fontsize=12)\n",
    "\n",
    "# Format the x-axis labels to show hours, minutes, and seconds\n",
    "ax.xaxis.set_major_formatter(mdates.DateFormatter('%H:%M:%S'))\n",
    "\n",
    "# Set the y-axis label\n",
    "ax.set_ylabel('Order Flow', fontsize=12)\n",
    "\n",
    "# Rotate the x-axis tick labels by 45 degrees for better visibility\n",
    "plt.xticks(rotation=45)\n",
    "\n",
    "# Display the plot\n",
    "plt.show()"
   ]
  },
  {
   "cell_type": "markdown",
   "id": "9a451181",
   "metadata": {},
   "source": [
    "<a id='calculateorderflowvolumebars'></a>\n",
    "## Calculate Order Flow: Volume Bars\n",
    "The BVC method uses the price change to calculate order flow using the volume bars.\n",
    "\n",
    "\n",
    "## Read the Volume Bars Data\n",
    "Import the CSV `volume_bars_es500_2013_10_02_100_milliseconds.csv` as the dataframe `volume_bars`. This CSV was created in the notebook of the previous section with the unit name - 'Calculate Time and Volume Bars'. This CSV file has volume bars with the volume threshold of 10000 E-mini S&P 500 futures for the date `2013-10-02`. This dataset has columns `start_time`, `end_time`, `open`, `high`, `low`, `close` and `volume`. This csv file is available in the zip file of the unit 'Python Codes and Data' in the 'Course Summary' section. "
   ]
  },
  {
   "cell_type": "code",
   "execution_count": 12,
   "id": "0439ea99",
   "metadata": {},
   "outputs": [
    {
     "data": {
      "text/html": [
       "<div>\n",
       "<style scoped>\n",
       "    .dataframe tbody tr th:only-of-type {\n",
       "        vertical-align: middle;\n",
       "    }\n",
       "\n",
       "    .dataframe tbody tr th {\n",
       "        vertical-align: top;\n",
       "    }\n",
       "\n",
       "    .dataframe thead th {\n",
       "        text-align: right;\n",
       "    }\n",
       "</style>\n",
       "<table border=\"1\" class=\"dataframe\">\n",
       "  <thead>\n",
       "    <tr style=\"text-align: right;\">\n",
       "      <th></th>\n",
       "      <th>start_time</th>\n",
       "      <th>end_time</th>\n",
       "      <th>open</th>\n",
       "      <th>high</th>\n",
       "      <th>low</th>\n",
       "      <th>close</th>\n",
       "      <th>volume</th>\n",
       "    </tr>\n",
       "  </thead>\n",
       "  <tbody>\n",
       "    <tr>\n",
       "      <th>2013-10-02 00:00:00.604800</th>\n",
       "      <td>2013-10-02 00:00:00.604800</td>\n",
       "      <td>2013-10-02 00:00:44.150400</td>\n",
       "      <td>1428.75</td>\n",
       "      <td>1429.0</td>\n",
       "      <td>1428.75</td>\n",
       "      <td>1429.00</td>\n",
       "      <td>102.0</td>\n",
       "    </tr>\n",
       "    <tr>\n",
       "      <th>2013-10-02 00:00:47.433600</th>\n",
       "      <td>2013-10-02 00:00:47.433600</td>\n",
       "      <td>2013-10-02 00:04:16.521599</td>\n",
       "      <td>1429.00</td>\n",
       "      <td>1429.0</td>\n",
       "      <td>1428.75</td>\n",
       "      <td>1429.00</td>\n",
       "      <td>158.0</td>\n",
       "    </tr>\n",
       "    <tr>\n",
       "      <th>2013-10-02 00:04:16.521599</th>\n",
       "      <td>2013-10-02 00:04:16.521599</td>\n",
       "      <td>2013-10-02 00:05:17.692800</td>\n",
       "      <td>1429.00</td>\n",
       "      <td>1429.0</td>\n",
       "      <td>1428.00</td>\n",
       "      <td>1428.00</td>\n",
       "      <td>104.0</td>\n",
       "    </tr>\n",
       "    <tr>\n",
       "      <th>2013-10-02 00:05:23.049600</th>\n",
       "      <td>2013-10-02 00:05:23.049600</td>\n",
       "      <td>2013-10-02 00:10:35.558400</td>\n",
       "      <td>1428.25</td>\n",
       "      <td>1429.0</td>\n",
       "      <td>1428.00</td>\n",
       "      <td>1428.25</td>\n",
       "      <td>101.0</td>\n",
       "    </tr>\n",
       "    <tr>\n",
       "      <th>2013-10-02 00:10:46.790400</th>\n",
       "      <td>2013-10-02 00:10:46.790400</td>\n",
       "      <td>2013-10-02 00:13:21.792000</td>\n",
       "      <td>1429.00</td>\n",
       "      <td>1429.0</td>\n",
       "      <td>1428.50</td>\n",
       "      <td>1429.00</td>\n",
       "      <td>166.0</td>\n",
       "    </tr>\n",
       "  </tbody>\n",
       "</table>\n",
       "</div>"
      ],
      "text/plain": [
       "                                            start_time  \\\n",
       "2013-10-02 00:00:00.604800  2013-10-02 00:00:00.604800   \n",
       "2013-10-02 00:00:47.433600  2013-10-02 00:00:47.433600   \n",
       "2013-10-02 00:04:16.521599  2013-10-02 00:04:16.521599   \n",
       "2013-10-02 00:05:23.049600  2013-10-02 00:05:23.049600   \n",
       "2013-10-02 00:10:46.790400  2013-10-02 00:10:46.790400   \n",
       "\n",
       "                                              end_time     open    high  \\\n",
       "2013-10-02 00:00:00.604800  2013-10-02 00:00:44.150400  1428.75  1429.0   \n",
       "2013-10-02 00:00:47.433600  2013-10-02 00:04:16.521599  1429.00  1429.0   \n",
       "2013-10-02 00:04:16.521599  2013-10-02 00:05:17.692800  1429.00  1429.0   \n",
       "2013-10-02 00:05:23.049600  2013-10-02 00:10:35.558400  1428.25  1429.0   \n",
       "2013-10-02 00:10:46.790400  2013-10-02 00:13:21.792000  1429.00  1429.0   \n",
       "\n",
       "                                low    close  volume  \n",
       "2013-10-02 00:00:00.604800  1428.75  1429.00   102.0  \n",
       "2013-10-02 00:00:47.433600  1428.75  1429.00   158.0  \n",
       "2013-10-02 00:04:16.521599  1428.00  1428.00   104.0  \n",
       "2013-10-02 00:05:23.049600  1428.00  1428.25   101.0  \n",
       "2013-10-02 00:10:46.790400  1428.50  1429.00   166.0  "
      ]
     },
     "execution_count": 12,
     "metadata": {},
     "output_type": "execute_result"
    }
   ],
   "source": [
    "# Read the 'volume_bars_es500_2013_10_02' csv file as 'volume_bars' dataframe\n",
    "volume_bars = pd.read_csv('../data_modules/volume_bars_es500_2013_10_02_100_milliseconds.csv', index_col=0)\n",
    "\n",
    "# Print the data of first five volume bars\n",
    "volume_bars.head()"
   ]
  },
  {
   "cell_type": "markdown",
   "id": "bb9c5178",
   "metadata": {},
   "source": [
    "![bvc_vol_bars.jpg](https://d2a032ejo53cab.cloudfront.net/Glossary/K9AO39Ol/Untitled-Diagram-Copy-of-Page-1.drawio.png) <br>\n",
    "\n",
    "#### Steps to calculate the order flow using BVC method for volume bars\n",
    "\n",
    "**Step-1:** Price change<br>\n",
    "**Step-2:** Standard deviation of price change<br>\n",
    "**Step-3:** Buy volume<br>\n",
    "**Step-4:** Sell volume<br>\n",
    "**Step-5:** Order flow <br>\n",
    "\n",
    "Since each volume bar has almost the same volume which would be equal or greater than the threshold, the bvc function can also be used with volume bars as the input to calculate the order flow. "
   ]
  },
  {
   "cell_type": "code",
   "execution_count": 13,
   "id": "76b18282",
   "metadata": {
    "code_folding": []
   },
   "outputs": [
    {
     "data": {
      "text/html": [
       "<div>\n",
       "<style scoped>\n",
       "    .dataframe tbody tr th:only-of-type {\n",
       "        vertical-align: middle;\n",
       "    }\n",
       "\n",
       "    .dataframe tbody tr th {\n",
       "        vertical-align: top;\n",
       "    }\n",
       "\n",
       "    .dataframe thead th {\n",
       "        text-align: right;\n",
       "    }\n",
       "</style>\n",
       "<table border=\"1\" class=\"dataframe\">\n",
       "  <thead>\n",
       "    <tr style=\"text-align: right;\">\n",
       "      <th></th>\n",
       "      <th>buy_volume</th>\n",
       "      <th>sell_volume</th>\n",
       "      <th>order_flow</th>\n",
       "    </tr>\n",
       "  </thead>\n",
       "  <tbody>\n",
       "    <tr>\n",
       "      <th>2013-10-02 00:04:16.521599</th>\n",
       "      <td>78.400706</td>\n",
       "      <td>25.599294</td>\n",
       "      <td>52.801412</td>\n",
       "    </tr>\n",
       "    <tr>\n",
       "      <th>2013-10-02 00:05:23.049600</th>\n",
       "      <td>53.914365</td>\n",
       "      <td>47.085635</td>\n",
       "      <td>6.828730</td>\n",
       "    </tr>\n",
       "    <tr>\n",
       "      <th>2013-10-02 00:10:46.790400</th>\n",
       "      <td>20.949942</td>\n",
       "      <td>145.050058</td>\n",
       "      <td>-124.100117</td>\n",
       "    </tr>\n",
       "    <tr>\n",
       "      <th>2013-10-02 00:13:21.878400</th>\n",
       "      <td>89.311002</td>\n",
       "      <td>53.688998</td>\n",
       "      <td>35.622005</td>\n",
       "    </tr>\n",
       "    <tr>\n",
       "      <th>2013-10-02 00:16:15.369600</th>\n",
       "      <td>80.784381</td>\n",
       "      <td>42.215619</td>\n",
       "      <td>38.568762</td>\n",
       "    </tr>\n",
       "  </tbody>\n",
       "</table>\n",
       "</div>"
      ],
      "text/plain": [
       "                            buy_volume  sell_volume  order_flow\n",
       "2013-10-02 00:04:16.521599   78.400706    25.599294   52.801412\n",
       "2013-10-02 00:05:23.049600   53.914365    47.085635    6.828730\n",
       "2013-10-02 00:10:46.790400   20.949942   145.050058 -124.100117\n",
       "2013-10-02 00:13:21.878400   89.311002    53.688998   35.622005\n",
       "2013-10-02 00:16:15.369600   80.784381    42.215619   38.568762"
      ]
     },
     "execution_count": 13,
     "metadata": {},
     "output_type": "execute_result"
    }
   ],
   "source": [
    "# Calculate the order flow using the bvc function and store it in `volume_bars`\n",
    "volume_bars = bvc(volume_bars)\n",
    "\n",
    "# Print the first 5 rows of the dataframe `volume_bars`\n",
    "volume_bars.head(5)"
   ]
  },
  {
   "cell_type": "markdown",
   "id": "db87eefd",
   "metadata": {},
   "source": [
    "<a id='plotvolumebars'></a>\n",
    "## Plot the Order Flow of Volume Bars\n",
    "\n",
    "Create a bar chart to visualise the order flow data for the first 20 volume bars. The data is defined as the variable `plot_data` which is a slice of the original `volume_bars` data. <br>\n",
    "Plot the positive and negative order flow bars separately in green and red, respectively."
   ]
  },
  {
   "cell_type": "code",
   "execution_count": 14,
   "id": "21306f41",
   "metadata": {},
   "outputs": [
    {
     "data": {
      "image/png": "[encoded data removed]",
      "text/plain": [
       "<Figure size 1500x700 with 1 Axes>"
      ]
     },
     "metadata": {},
     "output_type": "display_data"
    }
   ],
   "source": [
    "# Define the data to be plotted\n",
    "plot_data = volume_bars[:20]\n",
    "\n",
    "# Convert the index to datetime format\n",
    "plot_data.index = pd.to_datetime(plot_data.index)\n",
    "\n",
    "# Create a figure and subplot with a specific size\n",
    "fig, ax = plt.subplots(figsize=(15, 7))\n",
    "\n",
    "# Plot the positive order flow bars\n",
    "ax.bar(plot_data.index[plot_data['order_flow'] > 0],  plot_data['order_flow']\n",
    "       [plot_data['order_flow'] > 0].values, color='g', alpha=0.5, width=0.0005)\n",
    "\n",
    "# Plot the negative order flow bars\n",
    "ax.bar(plot_data.index[plot_data['order_flow'] < 0],  plot_data['order_flow']\n",
    "       [plot_data['order_flow'] < 0].values, color='r', alpha=0.5, width=0.0005)\n",
    "\n",
    "# Add a horizontal line at y=0\n",
    "ax.axhline(y=0, color='black', linewidth=0.3)\n",
    "\n",
    "# Set the title of the plot\n",
    "ax.set_title('Order Flow: Volume Bars')\n",
    "\n",
    "# Set the x-axis label and font size\n",
    "ax.set_xlabel('Time (HH:MM:SS)', fontsize=12)\n",
    "\n",
    "# Format the x-axis labels to show hours, minutes, and seconds\n",
    "ax.xaxis.set_major_formatter(mdates.DateFormatter('%H:%M:%S'))\n",
    "\n",
    "# Set the y-axis label\n",
    "ax.set_ylabel('Order Flow', fontsize=12)\n",
    "\n",
    "# Rotate the x-axis tick labels by 45 degrees for better visibility\n",
    "plt.xticks(rotation=45)\n",
    "\n",
    "# Display the plot\n",
    "plt.show()"
   ]
  },
  {
   "cell_type": "markdown",
   "id": "5e2caa8d",
   "metadata": {},
   "source": [
    "<a id='conclusion'></a>\n",
    "## Conclusion and Next Steps\n",
    "\n",
    "In this notebook, you learnt to calculate order flow for time bars and volume bars using the bulk volume classification method. It's recommended to use volume bar data to calculate order flow using the BVC method since volume bars provide a more direct measure of the level of trading activity in the market. <br>\n",
    "You can also use alternative bars such as dollar-volume bars to calculate the order flow using the BVC method. <br>\n",
    "In the upcoming units, you will learn to create and backtest a trading strategy based on the order flow. <br><br>"
   ]
  }
 ],
 "metadata": {
  "kernelspec": {
   "display_name": "Python 3 (ipykernel)",
   "language": "python",
   "name": "python3"
  },
  "language_info": {
   "codemirror_mode": {
    "name": "ipython",
    "version": 3
   },
   "file_extension": ".py",
   "mimetype": "text/x-python",
   "name": "python",
   "nbconvert_exporter": "python",
   "pygments_lexer": "ipython3",
   "version": "3.11.9"
  }
 },
 "nbformat": 4,
 "nbformat_minor": 5
}
