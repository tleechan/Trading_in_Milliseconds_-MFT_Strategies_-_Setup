{
 "cells": [
  {
   "cell_type": "markdown",
   "id": "e0a522dc",
   "metadata": {},
   "source": [
    "## Notebook Instructions\n",
    "\n",
    "1. If you are new to Jupyter notebooks, please go through this introductory manual <a href='https://quantra.quantinsti.com/quantra-notebook' target=\"_blank\">here</a>.\n",
    "1. Any changes made in this notebook would be lost after you close the browser window. **You can download the notebook to save your work on your PC.**\n",
    "1. Before running this notebook on your local PC:<br>\n",
    "i.  You need to set up a Python environment and the relevant packages on your local PC. To do so, go through the section on \"**Run Codes Locally on Your Machine**\" in the course.<br>\n",
    "ii. You need to **download the zip file available in the last unit** of this course. The zip file contains the data files and/or python modules that might be required to run this notebook."
   ]
  },
  {
   "cell_type": "markdown",
   "id": "3513b48c",
   "metadata": {},
   "source": [
    "# Calculate Time and Volume Bars\n",
    "\n",
    "In the previous unit, we discussed the difference between time and volume bars. You have also learnt to create time and volume bars to calculate order flow using bulk volume classification. In this notebook, you will learn to create time and volume bars from tick data. \n",
    "\n",
    "The notebook is structured as follows:\n",
    "1. [Read the Data](#data)\n",
    "1. [Create Time Bars](#timebars)\n",
    "1. [Plot Time Bars](#plottimebars)\n",
    "1. [Create Volume bars](#volumebars)\n",
    "1. [Plot the Volume Bars](#plotvolumebars)\n",
    "1. [Conclusion](#conclusion)\n",
    "\n",
    "## Import Libraries"
   ]
  },
  {
   "cell_type": "code",
   "execution_count": 1,
   "id": "0e4f5454",
   "metadata": {},
   "outputs": [],
   "source": [
    "# For data manipulation\n",
    "import pandas as pd\n",
    "import numpy as np\n",
    "\n",
    "# Ignore warnings\n",
    "import warnings\n",
    "warnings.filterwarnings('ignore')\n",
    "\n",
    "# For plotting\n",
    "import matplotlib.pyplot as plt\n",
    "import mplfinance as mpf"
   ]
  },
  {
   "cell_type": "markdown",
   "id": "f1f8bcea",
   "metadata": {},
   "source": [
    "<a id='data'></a>\n",
    "## Read the Data\n",
    "Import the pickle file `tick_data_es500_2013_10_02.bz2` as the dataframe `tick_data`. This pickle file has tick data and best bid, ask data of \tE-mini S&P 500 futures for the date `2013-10-02`. This dataset has columns `bid`, `ask`, `trade_price` and `trade_size` with datetime in milliseconds as the index.\n",
    "\n",
    "**Note:** _The python version 3.9.5 and pandas version 1.4.4 were used to create this pickle file. To avoid issues reading this pickle file, ensure that the python and pandas versions are equal or higher than the versions mentioned._"
   ]
  },
  {
   "cell_type": "code",
   "execution_count": 2,
   "id": "df6e2936",
   "metadata": {},
   "outputs": [
    {
     "data": {
      "text/html": [
       "<div>\n",
       "<style scoped>\n",
       "    .dataframe tbody tr th:only-of-type {\n",
       "        vertical-align: middle;\n",
       "    }\n",
       "\n",
       "    .dataframe tbody tr th {\n",
       "        vertical-align: top;\n",
       "    }\n",
       "\n",
       "    .dataframe thead th {\n",
       "        text-align: right;\n",
       "    }\n",
       "</style>\n",
       "<table border=\"1\" class=\"dataframe\">\n",
       "  <thead>\n",
       "    <tr style=\"text-align: right;\">\n",
       "      <th></th>\n",
       "      <th>bid</th>\n",
       "      <th>ask</th>\n",
       "      <th>trade_price</th>\n",
       "      <th>trade_size</th>\n",
       "    </tr>\n",
       "    <tr>\n",
       "      <th></th>\n",
       "      <th></th>\n",
       "      <th></th>\n",
       "      <th></th>\n",
       "      <th></th>\n",
       "    </tr>\n",
       "  </thead>\n",
       "  <tbody>\n",
       "    <tr>\n",
       "      <th>2013-10-02 00:00:00.604800</th>\n",
       "      <td>1428.50</td>\n",
       "      <td>1428.75</td>\n",
       "      <td>1428.75</td>\n",
       "      <td>1.0</td>\n",
       "    </tr>\n",
       "    <tr>\n",
       "      <th>2013-10-02 00:00:10.972800</th>\n",
       "      <td>1428.50</td>\n",
       "      <td>1428.75</td>\n",
       "      <td>1428.75</td>\n",
       "      <td>25.0</td>\n",
       "    </tr>\n",
       "    <tr>\n",
       "      <th>2013-10-02 00:00:19.439999</th>\n",
       "      <td>1428.50</td>\n",
       "      <td>1428.75</td>\n",
       "      <td>1429.00</td>\n",
       "      <td>17.0</td>\n",
       "    </tr>\n",
       "    <tr>\n",
       "      <th>2013-10-02 00:00:19.439999</th>\n",
       "      <td>1428.50</td>\n",
       "      <td>1428.75</td>\n",
       "      <td>1429.00</td>\n",
       "      <td>11.0</td>\n",
       "    </tr>\n",
       "    <tr>\n",
       "      <th>2013-10-02 00:00:19.526400</th>\n",
       "      <td>1428.75</td>\n",
       "      <td>1429.00</td>\n",
       "      <td>1429.00</td>\n",
       "      <td>28.0</td>\n",
       "    </tr>\n",
       "  </tbody>\n",
       "</table>\n",
       "</div>"
      ],
      "text/plain": [
       "                                bid      ask  trade_price  trade_size\n",
       "                                                                     \n",
       "2013-10-02 00:00:00.604800  1428.50  1428.75      1428.75         1.0\n",
       "2013-10-02 00:00:10.972800  1428.50  1428.75      1428.75        25.0\n",
       "2013-10-02 00:00:19.439999  1428.50  1428.75      1429.00        17.0\n",
       "2013-10-02 00:00:19.439999  1428.50  1428.75      1429.00        11.0\n",
       "2013-10-02 00:00:19.526400  1428.75  1429.00      1429.00        28.0"
      ]
     },
     "execution_count": 2,
     "metadata": {},
     "output_type": "execute_result"
    }
   ],
   "source": [
    "# Read the 'tick_data_es500_2013_10_02.bz2' pickle file as 'tick_data' dataframe\n",
    "tick_data = pd.read_pickle('../data_modules/tick_data_es500_2013_10_02.bz2')\n",
    "\n",
    "# Print first 5 trades of the 'tick_data' dataframe\n",
    "tick_data.head()"
   ]
  },
  {
   "cell_type": "markdown",
   "id": "54728bde",
   "metadata": {},
   "source": [
    "<a id='timebars'></a>\n",
    "## Create Time Bars\n",
    "The time bars display price movements over a set time interval, such as a minute, hour, day, or week. \n",
    "\n",
    "### Resample to 100 millisecond bars\n",
    "\n",
    "Let's create 100 millisecond bars from tick data using the `trade_price` and `trade_size` columns. <br>\n",
    "* First, we will create an `ohlc_dict` dictionary with keys `trade_price` and `'trade_size`.\n",
    "    * The value `ohlc` is mapped to the key `trade_price` that maps the `trade_price` column to the ohlc function (which calculates the open, high, low, and close prices for each one minute interval), and \n",
    "    * The value `sum` is mapped to the key `trade_size` that maps the `trade_size` column to the sum function (which calculates the total trade volume for each one minute interval). <br>\n"
   ]
  },
  {
   "cell_type": "code",
   "execution_count": 3,
   "id": "c31eeff0",
   "metadata": {},
   "outputs": [],
   "source": [
    "# Create 'ohlc_dict' dictionary\n",
    "ohlc_dict = {'trade_price': 'ohlc', 'trade_size': 'sum'}"
   ]
  },
  {
   "cell_type": "markdown",
   "id": "0fda91a7",
   "metadata": {},
   "source": [
    "The `resample` method is used to group the tick data into one minute intervals, and the `agg` method is used to apply the aggregation functions specified in `ohlc_dict` to each group."
   ]
  },
  {
   "cell_type": "code",
   "execution_count": 4,
   "id": "03a2b24c",
   "metadata": {},
   "outputs": [
    {
     "data": {
      "text/html": [
       "<div>\n",
       "<style scoped>\n",
       "    .dataframe tbody tr th:only-of-type {\n",
       "        vertical-align: middle;\n",
       "    }\n",
       "\n",
       "    .dataframe tbody tr th {\n",
       "        vertical-align: top;\n",
       "    }\n",
       "\n",
       "    .dataframe thead th {\n",
       "        text-align: right;\n",
       "    }\n",
       "</style>\n",
       "<table border=\"1\" class=\"dataframe\">\n",
       "  <thead>\n",
       "    <tr style=\"text-align: right;\">\n",
       "      <th></th>\n",
       "      <th>open</th>\n",
       "      <th>high</th>\n",
       "      <th>low</th>\n",
       "      <th>close</th>\n",
       "      <th>volume</th>\n",
       "    </tr>\n",
       "    <tr>\n",
       "      <th></th>\n",
       "      <th></th>\n",
       "      <th></th>\n",
       "      <th></th>\n",
       "      <th></th>\n",
       "      <th></th>\n",
       "    </tr>\n",
       "  </thead>\n",
       "  <tbody>\n",
       "    <tr>\n",
       "      <th>2013-10-02 00:00:00.600</th>\n",
       "      <td>1428.75</td>\n",
       "      <td>1428.75</td>\n",
       "      <td>1428.75</td>\n",
       "      <td>1428.75</td>\n",
       "      <td>1.0</td>\n",
       "    </tr>\n",
       "    <tr>\n",
       "      <th>2013-10-02 00:00:10.900</th>\n",
       "      <td>1428.75</td>\n",
       "      <td>1428.75</td>\n",
       "      <td>1428.75</td>\n",
       "      <td>1428.75</td>\n",
       "      <td>25.0</td>\n",
       "    </tr>\n",
       "    <tr>\n",
       "      <th>2013-10-02 00:00:19.400</th>\n",
       "      <td>1429.00</td>\n",
       "      <td>1429.00</td>\n",
       "      <td>1429.00</td>\n",
       "      <td>1429.00</td>\n",
       "      <td>28.0</td>\n",
       "    </tr>\n",
       "    <tr>\n",
       "      <th>2013-10-02 00:00:19.500</th>\n",
       "      <td>1429.00</td>\n",
       "      <td>1429.00</td>\n",
       "      <td>1429.00</td>\n",
       "      <td>1429.00</td>\n",
       "      <td>28.0</td>\n",
       "    </tr>\n",
       "    <tr>\n",
       "      <th>2013-10-02 00:00:19.600</th>\n",
       "      <td>1429.00</td>\n",
       "      <td>1429.00</td>\n",
       "      <td>1429.00</td>\n",
       "      <td>1429.00</td>\n",
       "      <td>3.0</td>\n",
       "    </tr>\n",
       "  </tbody>\n",
       "</table>\n",
       "</div>"
      ],
      "text/plain": [
       "                            open     high      low    close  volume\n",
       "                                                                   \n",
       "2013-10-02 00:00:00.600  1428.75  1428.75  1428.75  1428.75     1.0\n",
       "2013-10-02 00:00:10.900  1428.75  1428.75  1428.75  1428.75    25.0\n",
       "2013-10-02 00:00:19.400  1429.00  1429.00  1429.00  1429.00    28.0\n",
       "2013-10-02 00:00:19.500  1429.00  1429.00  1429.00  1429.00    28.0\n",
       "2013-10-02 00:00:19.600  1429.00  1429.00  1429.00  1429.00     3.0"
      ]
     },
     "execution_count": 4,
     "metadata": {},
     "output_type": "execute_result"
    }
   ],
   "source": [
    "# Use resample method to resample the tick data to 100 millisecond frequency\n",
    "time_bars = tick_data.resample('100L').agg(ohlc_dict)\n",
    "\n",
    "# Drop any rows with missing data\n",
    "time_bars = time_bars.dropna()\n",
    "\n",
    "# Rename the columns to 'open', 'high', 'low', 'close', and 'volume'\n",
    "time_bars.columns = ['open', 'high', 'low', 'close', 'volume']\n",
    "\n",
    "# Print the resampled data\n",
    "time_bars.head()"
   ]
  },
  {
   "cell_type": "markdown",
   "id": "ccd2d34d",
   "metadata": {},
   "source": [
    "<a id='plottimebars'></a>\n",
    "## Plot Time Bars\n",
    "\n",
    "Using the `mplfinance` library, create a candlestick chart with volume using the OHLC data from the previously created time bars dataframe.\n",
    "\n",
    "Use the `plot()` method of mplfinance with `candle` as the type of plot and `volume` set to True to plot a candlestick chart with volumes."
   ]
  },
  {
   "cell_type": "code",
   "execution_count": 5,
   "id": "a6f25cdd",
   "metadata": {},
   "outputs": [
    {
     "data": {
      "image/png": "[encoded data removed]",
      "text/plain": [
       "<Figure size 1078.12x575 with 4 Axes>"
      ]
     },
     "metadata": {},
     "output_type": "display_data"
    }
   ],
   "source": [
    "# Define the plot\n",
    "mpf.plot(time_bars[:10], type='candle', volume=True,\n",
    "         title='Time Bars with Volume',\n",
    "         ylabel='Price', ylabel_lower='Volume',\n",
    "         figratio=(15, 8), mav=(10, 20, 30))\n",
    "\n",
    "# show the plot\n",
    "plt.show()"
   ]
  },
  {
   "cell_type": "markdown",
   "id": "447145e8",
   "metadata": {},
   "source": [
    "As you can see in the above plot, a new time bar is formed every 100 milliseconds with different volumes. We can use this time bar data to calculate order flow using the bulk volume classification method."
   ]
  },
  {
   "cell_type": "markdown",
   "id": "49fd5ce0",
   "metadata": {},
   "source": [
    "<a id='volumebars'></a>\n",
    "## Create Volume bars\n",
    "The volume bars represent price movements over a set volume of trading. Each bar represents a specific amount of trading volume, such as 1,000 contracts or 10,000 contracts. Let's create volume bars with a threshold of 100. Each volume bar would be created for periods where the trading volume exceeds a certain threshold. In this case, the threshold is 100 contracts.  "
   ]
  },
  {
   "cell_type": "code",
   "execution_count": 6,
   "id": "bd0a97f6",
   "metadata": {},
   "outputs": [],
   "source": [
    "# Define volume threshold\n",
    "threshold = 100"
   ]
  },
  {
   "cell_type": "markdown",
   "id": "af55ca5f",
   "metadata": {},
   "source": [
    "\n",
    "The calculation of volume bars using python involves four steps. \n",
    "![volume_bars.jpg](https://d2a032ejo53cab.cloudfront.net/Glossary/sREjPgU1/Untitled-Diagram.jpg) <br>\n",
    "\n",
    "### Cumulative Volume\n",
    "**Step-1**: Calculate cumulative volume of trades"
   ]
  },
  {
   "cell_type": "code",
   "execution_count": 7,
   "id": "614f6c14",
   "metadata": {},
   "outputs": [],
   "source": [
    "# Calculate cumulative volume\n",
    "tick_data['cumulative_volume'] = tick_data['trade_size'].cumsum()"
   ]
  },
  {
   "cell_type": "markdown",
   "id": "8df7d0f3",
   "metadata": {},
   "source": [
    "### Initialise Variables\n",
    "**Step-2**: Initialise the variables `start_time`, `end_time`, `volume_sum` and `volume_bars`. <br><br>\n",
    "    * `start_time`: To store the starting time of the volume bar.<br>\n",
    "    * `end_time`: To store the ending time of the volume bar.<br>\n",
    "    * `volume_sum`: To store the total volume of a volume bar. <br>\n",
    "    * `volume_bars`: A list of dictionaries to store the volume bars data.<br>\n",
    "    "
   ]
  },
  {
   "cell_type": "code",
   "execution_count": 8,
   "id": "c599984f",
   "metadata": {},
   "outputs": [],
   "source": [
    "# Initialise variables start_time, end_time, volume_sum and volume_bars\n",
    "start_time = None\n",
    "end_time = None\n",
    "volume_sum = 0\n",
    "volume_bars_list = []"
   ]
  },
  {
   "cell_type": "markdown",
   "id": "b797799a",
   "metadata": {},
   "source": [
    "### Iterate over the Trades\n",
    "**Step-3**: Iterate over the trades in `tick_data` dataframe. Using a `for` loop and `iterrows()` method, create volume bars by accumulating trade volumes until a threshold of 100 is reached. The `iterrows()` function is used to create an iterator which returns an index value and the corresponding row as a Series object.\n",
    "* If the volume threshold is reached, calculate OHLC (open, high, low, close) data for the volume bar, create a dictionary with this data, and append it to a list of volume bars called 'volume_bars'. \n",
    "* Once a volume bar is created, reset the variables `start_time`, `end_time`, and `volume_sum`"
   ]
  },
  {
   "cell_type": "code",
   "execution_count": 9,
   "id": "b218ca3e",
   "metadata": {},
   "outputs": [
    {
     "name": "stdout",
     "output_type": "stream",
     "text": [
      "The total number of volume bars created from 77390 trades: 9550\n"
     ]
    }
   ],
   "source": [
    "# Create a column 'time' to store the trade entry timestamps\n",
    "tick_data['time'] = pd.to_datetime(tick_data.index)\n",
    "\n",
    "\n",
    "# Iterate over rows\n",
    "for index, row in tick_data.iterrows():\n",
    "\n",
    "    # Check whether the 'volume_sum' variable is equal to zero to confirm start of new volume bar\n",
    "    if volume_sum == 0:\n",
    "\n",
    "        # If a new volume bar is starting, 'start_time' variable is set to the value in the 'time' column of the current row\n",
    "        start_time = row['time']\n",
    "\n",
    "    # Add volume to sum: Add the value in the 'trade_size' column of the current row to the 'volume_sum' variable\n",
    "    volume_sum += row['trade_size']\n",
    "\n",
    "    # Check whether the 'volume_sum' variable is greater than or equal to the 'threshold' value\n",
    "    if volume_sum >= threshold:\n",
    "\n",
    "        # If a volume threshold is reached, the 'end_time' variable is set to the value in the 'time' column of the current row\n",
    "        end_time = row['time']\n",
    "\n",
    "        # Create a dictionary called 'volume_data' that contains the OHLC data for the current volume bar\n",
    "        volume_data = {\n",
    "\n",
    "            # The 'start_time' key is set to the value of 'start_time' variable\n",
    "            'start_time': start_time,\n",
    "\n",
    "            # The 'end_time' key is set to the value of 'end_time' variable\n",
    "            'end_time': end_time,\n",
    "\n",
    "            # The 'open_price' key is set to the first value in the 'trade_price' column of the row\n",
    "            # where the 'time' column is equal to the 'start_time' variable\n",
    "            'open_price': tick_data.loc[tick_data['time'] == start_time, 'trade_price'].iloc[0],\n",
    "\n",
    "            # The 'high_price' key is set to the maximum value in the 'trade_price' column for rows\n",
    "            # where the 'time' column is between the 'start_time' and 'end_time' variables\n",
    "            'high_price': tick_data.loc[start_time:end_time, 'trade_price'].max(),\n",
    "\n",
    "            # The 'low_price' key is set to the minimum value in the 'trade_price' column for rows\n",
    "            # where the 'time' column is between the 'start_time' and 'end_time' variables\n",
    "            'low_price': tick_data.loc[start_time:end_time, 'trade_price'].min(),\n",
    "\n",
    "            # The 'close_price' key is set to the first value in the 'trade_price' column of the row\n",
    "            # where the 'time' column is equal to the 'end_time' variable\n",
    "            'close_price': tick_data.loc[tick_data['time'] == end_time, 'trade_price'].iloc[0],\n",
    "\n",
    "            # The 'volume' key is set to the value of the 'volume_sum' variable\n",
    "            'volume': volume_sum\n",
    "        }\n",
    "\n",
    "        # Append 'volume_data' dictionary to a list called 'volume_bars_list'\n",
    "        # which contains the OHLC data for each volume bar.\n",
    "        volume_bars_list.append(volume_data)\n",
    "\n",
    "        # Resets the 'start_time', 'end_time', and 'volume_sum' variables to None,\n",
    "        # which prepares the script to start calculating the next volume bar\n",
    "        start_time = None\n",
    "        end_time = None\n",
    "        volume_sum = 0\n",
    "\n",
    "# Total number of volume bars created\n",
    "print(\n",
    "    f'The total number of volume bars created from {len(tick_data)} trades: {len(volume_bars_list)}')"
   ]
  },
  {
   "cell_type": "markdown",
   "id": "0e975bb7",
   "metadata": {},
   "source": [
    "9550 volume bars are created from the `tick_data` with 77390 trades.\n",
    "\n",
    "### Create Volume Bars Dataframe\n",
    "**Step-4**: Convert the `volume_bars_list` into a `volume_bars` dataframe with columns `start_time`, `end_time`, `open`, `high`, `low`,`close`, and `volume`."
   ]
  },
  {
   "cell_type": "code",
   "execution_count": 10,
   "id": "de0ff088",
   "metadata": {},
   "outputs": [
    {
     "data": {
      "text/html": [
       "<div>\n",
       "<style scoped>\n",
       "    .dataframe tbody tr th:only-of-type {\n",
       "        vertical-align: middle;\n",
       "    }\n",
       "\n",
       "    .dataframe tbody tr th {\n",
       "        vertical-align: top;\n",
       "    }\n",
       "\n",
       "    .dataframe thead th {\n",
       "        text-align: right;\n",
       "    }\n",
       "</style>\n",
       "<table border=\"1\" class=\"dataframe\">\n",
       "  <thead>\n",
       "    <tr style=\"text-align: right;\">\n",
       "      <th></th>\n",
       "      <th>start_time</th>\n",
       "      <th>end_time</th>\n",
       "      <th>open</th>\n",
       "      <th>high</th>\n",
       "      <th>low</th>\n",
       "      <th>close</th>\n",
       "      <th>volume</th>\n",
       "    </tr>\n",
       "    <tr>\n",
       "      <th>start_time</th>\n",
       "      <th></th>\n",
       "      <th></th>\n",
       "      <th></th>\n",
       "      <th></th>\n",
       "      <th></th>\n",
       "      <th></th>\n",
       "      <th></th>\n",
       "    </tr>\n",
       "  </thead>\n",
       "  <tbody>\n",
       "    <tr>\n",
       "      <th>2013-10-02 00:00:00.604800</th>\n",
       "      <td>2013-10-02 00:00:00.604800</td>\n",
       "      <td>2013-10-02 00:00:44.150400</td>\n",
       "      <td>1428.75</td>\n",
       "      <td>1429.0</td>\n",
       "      <td>1428.75</td>\n",
       "      <td>1429.00</td>\n",
       "      <td>102.0</td>\n",
       "    </tr>\n",
       "    <tr>\n",
       "      <th>2013-10-02 00:00:47.433600</th>\n",
       "      <td>2013-10-02 00:00:47.433600</td>\n",
       "      <td>2013-10-02 00:04:16.521599</td>\n",
       "      <td>1429.00</td>\n",
       "      <td>1429.0</td>\n",
       "      <td>1428.75</td>\n",
       "      <td>1429.00</td>\n",
       "      <td>158.0</td>\n",
       "    </tr>\n",
       "    <tr>\n",
       "      <th>2013-10-02 00:04:16.521599</th>\n",
       "      <td>2013-10-02 00:04:16.521599</td>\n",
       "      <td>2013-10-02 00:05:17.692800</td>\n",
       "      <td>1429.00</td>\n",
       "      <td>1429.0</td>\n",
       "      <td>1428.00</td>\n",
       "      <td>1428.00</td>\n",
       "      <td>104.0</td>\n",
       "    </tr>\n",
       "    <tr>\n",
       "      <th>2013-10-02 00:05:23.049600</th>\n",
       "      <td>2013-10-02 00:05:23.049600</td>\n",
       "      <td>2013-10-02 00:10:35.558400</td>\n",
       "      <td>1428.25</td>\n",
       "      <td>1429.0</td>\n",
       "      <td>1428.00</td>\n",
       "      <td>1428.25</td>\n",
       "      <td>101.0</td>\n",
       "    </tr>\n",
       "    <tr>\n",
       "      <th>2013-10-02 00:10:46.790400</th>\n",
       "      <td>2013-10-02 00:10:46.790400</td>\n",
       "      <td>2013-10-02 00:13:21.792000</td>\n",
       "      <td>1429.00</td>\n",
       "      <td>1429.0</td>\n",
       "      <td>1428.50</td>\n",
       "      <td>1429.00</td>\n",
       "      <td>166.0</td>\n",
       "    </tr>\n",
       "  </tbody>\n",
       "</table>\n",
       "</div>"
      ],
      "text/plain": [
       "                                           start_time  \\\n",
       "start_time                                              \n",
       "2013-10-02 00:00:00.604800 2013-10-02 00:00:00.604800   \n",
       "2013-10-02 00:00:47.433600 2013-10-02 00:00:47.433600   \n",
       "2013-10-02 00:04:16.521599 2013-10-02 00:04:16.521599   \n",
       "2013-10-02 00:05:23.049600 2013-10-02 00:05:23.049600   \n",
       "2013-10-02 00:10:46.790400 2013-10-02 00:10:46.790400   \n",
       "\n",
       "                                             end_time     open    high  \\\n",
       "start_time                                                               \n",
       "2013-10-02 00:00:00.604800 2013-10-02 00:00:44.150400  1428.75  1429.0   \n",
       "2013-10-02 00:00:47.433600 2013-10-02 00:04:16.521599  1429.00  1429.0   \n",
       "2013-10-02 00:04:16.521599 2013-10-02 00:05:17.692800  1429.00  1429.0   \n",
       "2013-10-02 00:05:23.049600 2013-10-02 00:10:35.558400  1428.25  1429.0   \n",
       "2013-10-02 00:10:46.790400 2013-10-02 00:13:21.792000  1429.00  1429.0   \n",
       "\n",
       "                                low    close  volume  \n",
       "start_time                                            \n",
       "2013-10-02 00:00:00.604800  1428.75  1429.00   102.0  \n",
       "2013-10-02 00:00:47.433600  1428.75  1429.00   158.0  \n",
       "2013-10-02 00:04:16.521599  1428.00  1428.00   104.0  \n",
       "2013-10-02 00:05:23.049600  1428.00  1428.25   101.0  \n",
       "2013-10-02 00:10:46.790400  1428.50  1429.00   166.0  "
      ]
     },
     "execution_count": 10,
     "metadata": {},
     "output_type": "execute_result"
    }
   ],
   "source": [
    "# Convert the list of volume bars to dataframe\n",
    "volume_bars = pd.DataFrame(volume_bars_list)\n",
    "\n",
    "# Define columns of the volume_bars dataframe\n",
    "volume_bars.columns = ['start_time', 'end_time', 'open', 'high', 'low',\n",
    "                       'close', 'volume']\n",
    "\n",
    "# Set the start time of the volume bars as the index of the volume_bars dataframe\n",
    "volume_bars.index = volume_bars.start_time\n",
    "\n",
    "# Print first 5 volume bars\n",
    "volume_bars.head()"
   ]
  },
  {
   "cell_type": "markdown",
   "id": "9bb274bb",
   "metadata": {},
   "source": [
    "The function to calculate the volume bars (`volume_bars()`) is added in the `tmf_utils.py` file in the `data_modules` of the `TMFResources.zip`. You can download this `TMFResources.zip` file from the last section of this course."
   ]
  },
  {
   "cell_type": "markdown",
   "id": "da70eb29",
   "metadata": {},
   "source": [
    "<a id='plotvolumebars'></a>\n",
    "## Plot the Volume Bars\n",
    "Using the `mplfinance` library, create a candlestick chart with volume using the OHLC data from the previously created volume bars dataframe.\n",
    "\n",
    "Use the `plot()` method of mplfinance with `candle` as the type of plot and `volume` set to True to plot a candlestick chart with volumes."
   ]
  },
  {
   "cell_type": "code",
   "execution_count": 11,
   "id": "aaf895a2",
   "metadata": {},
   "outputs": [
    {
     "data": {
      "image/png": "[encoded data removed]",
      "text/plain": [
       "<Figure size 1078.12x575 with 4 Axes>"
      ]
     },
     "metadata": {},
     "output_type": "display_data"
    }
   ],
   "source": [
    "# Define the plot\n",
    "mpf.plot(volume_bars[-10:], type='candle', volume=True,\n",
    "         title='Candlestick Chart with Volume',\n",
    "         ylabel='Price', ylabel_lower='Volume',\n",
    "         figratio=(15, 8), mav=(10, 20, 30))"
   ]
  },
  {
   "cell_type": "markdown",
   "id": "d25d6019",
   "metadata": {},
   "source": [
    "The above plot represents the volume bars with a threshold of 100. As you can see, the volume of each bar is almost the same but the timestamps are not equally spaced. \n",
    "<a id='conclusion'></a>\n",
    "## Conclusion and Next Steps\n",
    "\n",
    "In this notebook, you have learnt to create 100 milliseconds time bars and volume bars (with 100 as threshold) from tick data.  It is recommended to use volume bar data to calculate order flow using BVC method since volume bars provide a more direct measure of the level of trading activity in the market.<br> As an exercise, you can use the same code to create 15-min or 1-hour time bars and volume bars with 1000 as threshold. \n",
    "\n",
    "In the next notebook, you will learn to calculate order flow using bulk volume classification method for time bars and volume bars. <br><br>\n"
   ]
  }
 ],
 "metadata": {
  "kernelspec": {
   "display_name": "Python 3 (ipykernel)",
   "language": "python",
   "name": "python3"
  },
  "language_info": {
   "codemirror_mode": {
    "name": "ipython",
    "version": 3
   },
   "file_extension": ".py",
   "mimetype": "text/x-python",
   "name": "python",
   "nbconvert_exporter": "python",
   "pygments_lexer": "ipython3",
   "version": "3.11.9"
  }
 },
 "nbformat": 4,
 "nbformat_minor": 5
}
